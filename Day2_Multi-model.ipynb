{
 "cells": [
  {
   "cell_type": "code",
   "execution_count": 5,
   "metadata": {
    "_cell_guid": "b1076dfc-b9ad-4769-8c92-a6c4dae69d19",
    "_uuid": "8f2839f25d086af736a60e9eeb907d3b93b6e0e5"
   },
   "outputs": [],
   "source": [
    "# This Python 3 environment comes with many helpful analytics libraries installed\n",
    "# It is defined by the kaggle/python docker image: https://github.com/kaggle/docker-python\n",
    "# For example, here's several helpful packages to load in \n",
    "\n",
    "import numpy as np # linear algebra\n",
    "import pandas as pd # data processing, CSV file I/O (e.g. pd.read_csv)\n",
    "\n",
    "# Input data files are available in the \"../input/\" directory.\n",
    "# For example, running this (by clicking run or pressing Shift+Enter) will list all files under the input directory\n",
    "\n",
    "import os\n",
    "for dirname, _, filenames in os.walk('/kaggle/input'):\n",
    "    for filename in filenames:\n",
    "        print(os.path.join(dirname, filename))\n",
    "\n",
    "# Any results you write to the current directory are saved as output."
   ]
  },
  {
   "cell_type": "code",
   "execution_count": 6,
   "metadata": {},
   "outputs": [],
   "source": [
    "import matplotlib.pyplot as plt\n",
    "import seaborn as sns"
   ]
  },
  {
   "cell_type": "markdown",
   "metadata": {},
   "source": [
    "# Data Loading and Preprocessing"
   ]
  },
  {
   "cell_type": "code",
   "execution_count": 7,
   "metadata": {},
   "outputs": [],
   "source": [
    "#load data\n",
    "df=pd.read_csv(r'C:\\Users\\Rajakanthan\\Documents\\Datastorm\\credit_card_default_train.csv')"
   ]
  },
  {
   "cell_type": "code",
   "execution_count": 8,
   "metadata": {},
   "outputs": [
    {
     "data": {
      "text/html": [
       "<div>\n",
       "<style scoped>\n",
       "    .dataframe tbody tr th:only-of-type {\n",
       "        vertical-align: middle;\n",
       "    }\n",
       "\n",
       "    .dataframe tbody tr th {\n",
       "        vertical-align: top;\n",
       "    }\n",
       "\n",
       "    .dataframe thead th {\n",
       "        text-align: right;\n",
       "    }\n",
       "</style>\n",
       "<table border=\"1\" class=\"dataframe\">\n",
       "  <thead>\n",
       "    <tr style=\"text-align: right;\">\n",
       "      <th></th>\n",
       "      <th>Client_ID</th>\n",
       "      <th>Balance_Limit_V1</th>\n",
       "      <th>Gender</th>\n",
       "      <th>EDUCATION_STATUS</th>\n",
       "      <th>MARITAL_STATUS</th>\n",
       "      <th>AGE</th>\n",
       "      <th>PAY_JULY</th>\n",
       "      <th>PAY_AUG</th>\n",
       "      <th>PAY_SEP</th>\n",
       "      <th>PAY_OCT</th>\n",
       "      <th>...</th>\n",
       "      <th>PAID_AMT_SEP</th>\n",
       "      <th>PAID_AMT_OCT</th>\n",
       "      <th>PAID_AMT_NOV</th>\n",
       "      <th>PAID_AMT_DEC</th>\n",
       "      <th>Average Paid</th>\n",
       "      <th>Average Due</th>\n",
       "      <th>NEXT_MONTH_DEFAULT</th>\n",
       "      <th>Total Paid</th>\n",
       "      <th>Total Due</th>\n",
       "      <th>Unnamed: 29</th>\n",
       "    </tr>\n",
       "  </thead>\n",
       "  <tbody>\n",
       "    <tr>\n",
       "      <th>0</th>\n",
       "      <td>A2</td>\n",
       "      <td>1M</td>\n",
       "      <td>M</td>\n",
       "      <td>Graduate</td>\n",
       "      <td>Other</td>\n",
       "      <td>31-45</td>\n",
       "      <td>-1</td>\n",
       "      <td>-1</td>\n",
       "      <td>-1</td>\n",
       "      <td>-1</td>\n",
       "      <td>...</td>\n",
       "      <td>39418</td>\n",
       "      <td>162772</td>\n",
       "      <td>0</td>\n",
       "      <td>538165</td>\n",
       "      <td>149271.8</td>\n",
       "      <td>33474.833333</td>\n",
       "      <td>0</td>\n",
       "      <td>749796</td>\n",
       "      <td>200849</td>\n",
       "      <td>-548947.0</td>\n",
       "    </tr>\n",
       "    <tr>\n",
       "      <th>1</th>\n",
       "      <td>A3</td>\n",
       "      <td>1M</td>\n",
       "      <td>F</td>\n",
       "      <td>High School</td>\n",
       "      <td>Other</td>\n",
       "      <td>Less than 30</td>\n",
       "      <td>0</td>\n",
       "      <td>-1</td>\n",
       "      <td>-1</td>\n",
       "      <td>-1</td>\n",
       "      <td>...</td>\n",
       "      <td>43530</td>\n",
       "      <td>80811</td>\n",
       "      <td>942</td>\n",
       "      <td>33666</td>\n",
       "      <td>41029.8</td>\n",
       "      <td>130174.666667</td>\n",
       "      <td>0</td>\n",
       "      <td>356967</td>\n",
       "      <td>781048</td>\n",
       "      <td>424081.0</td>\n",
       "    </tr>\n",
       "    <tr>\n",
       "      <th>2</th>\n",
       "      <td>A4</td>\n",
       "      <td>100K</td>\n",
       "      <td>F</td>\n",
       "      <td>High School</td>\n",
       "      <td>Single</td>\n",
       "      <td>31-45</td>\n",
       "      <td>4</td>\n",
       "      <td>3</td>\n",
       "      <td>2</td>\n",
       "      <td>2</td>\n",
       "      <td>...</td>\n",
       "      <td>0</td>\n",
       "      <td>0</td>\n",
       "      <td>0</td>\n",
       "      <td>0</td>\n",
       "      <td>0.0</td>\n",
       "      <td>8040.000000</td>\n",
       "      <td>1</td>\n",
       "      <td>0</td>\n",
       "      <td>48240</td>\n",
       "      <td>48240.0</td>\n",
       "    </tr>\n",
       "    <tr>\n",
       "      <th>3</th>\n",
       "      <td>A5</td>\n",
       "      <td>200K</td>\n",
       "      <td>F</td>\n",
       "      <td>Graduate</td>\n",
       "      <td>Single</td>\n",
       "      <td>31-45</td>\n",
       "      <td>2</td>\n",
       "      <td>0</td>\n",
       "      <td>0</td>\n",
       "      <td>0</td>\n",
       "      <td>...</td>\n",
       "      <td>3696</td>\n",
       "      <td>4620</td>\n",
       "      <td>4049</td>\n",
       "      <td>3918</td>\n",
       "      <td>4034.6</td>\n",
       "      <td>96483.333333</td>\n",
       "      <td>1</td>\n",
       "      <td>24028</td>\n",
       "      <td>578900</td>\n",
       "      <td>554872.0</td>\n",
       "    </tr>\n",
       "    <tr>\n",
       "      <th>4</th>\n",
       "      <td>A6</td>\n",
       "      <td>1M</td>\n",
       "      <td>F</td>\n",
       "      <td>Graduate</td>\n",
       "      <td>Other</td>\n",
       "      <td>31-45</td>\n",
       "      <td>2</td>\n",
       "      <td>2</td>\n",
       "      <td>0</td>\n",
       "      <td>0</td>\n",
       "      <td>...</td>\n",
       "      <td>16170</td>\n",
       "      <td>17325</td>\n",
       "      <td>16401</td>\n",
       "      <td>17325</td>\n",
       "      <td>17602.2</td>\n",
       "      <td>435555.166667</td>\n",
       "      <td>0</td>\n",
       "      <td>88011</td>\n",
       "      <td>2613331</td>\n",
       "      <td>2525320.0</td>\n",
       "    </tr>\n",
       "  </tbody>\n",
       "</table>\n",
       "<p>5 rows × 30 columns</p>\n",
       "</div>"
      ],
      "text/plain": [
       "  Client_ID Balance_Limit_V1 Gender EDUCATION_STATUS MARITAL_STATUS  \\\n",
       "0        A2               1M      M         Graduate          Other   \n",
       "1        A3               1M      F      High School          Other   \n",
       "2        A4             100K      F      High School         Single   \n",
       "3        A5             200K      F         Graduate         Single   \n",
       "4        A6               1M      F         Graduate          Other   \n",
       "\n",
       "            AGE  PAY_JULY  PAY_AUG  PAY_SEP  PAY_OCT  ...  PAID_AMT_SEP  \\\n",
       "0         31-45        -1       -1       -1       -1  ...         39418   \n",
       "1  Less than 30         0       -1       -1       -1  ...         43530   \n",
       "2         31-45         4        3        2        2  ...             0   \n",
       "3         31-45         2        0        0        0  ...          3696   \n",
       "4         31-45         2        2        0        0  ...         16170   \n",
       "\n",
       "   PAID_AMT_OCT  PAID_AMT_NOV  PAID_AMT_DEC  Average Paid    Average Due  \\\n",
       "0        162772             0        538165      149271.8   33474.833333   \n",
       "1         80811           942         33666       41029.8  130174.666667   \n",
       "2             0             0             0           0.0    8040.000000   \n",
       "3          4620          4049          3918        4034.6   96483.333333   \n",
       "4         17325         16401         17325       17602.2  435555.166667   \n",
       "\n",
       "   NEXT_MONTH_DEFAULT  Total Paid  Total Due  Unnamed: 29  \n",
       "0                   0      749796     200849    -548947.0  \n",
       "1                   0      356967     781048     424081.0  \n",
       "2                   1           0      48240      48240.0  \n",
       "3                   1       24028     578900     554872.0  \n",
       "4                   0       88011    2613331    2525320.0  \n",
       "\n",
       "[5 rows x 30 columns]"
      ]
     },
     "execution_count": 8,
     "metadata": {},
     "output_type": "execute_result"
    }
   ],
   "source": [
    "df.head()"
   ]
  },
  {
   "cell_type": "code",
   "execution_count": 9,
   "metadata": {},
   "outputs": [
    {
     "data": {
      "text/plain": [
       "Client_ID                 0\n",
       "Balance_Limit_V1          0\n",
       "Gender                    0\n",
       "EDUCATION_STATUS          0\n",
       "MARITAL_STATUS            0\n",
       "AGE                       0\n",
       "PAY_JULY                  0\n",
       "PAY_AUG                   0\n",
       "PAY_SEP                   0\n",
       "PAY_OCT                   0\n",
       "PAY_NOV                   0\n",
       "PAY_DEC                   0\n",
       "DUE_AMT_JULY              0\n",
       "DUE_AMT_AUG               0\n",
       "DUE_AMT_SEP               0\n",
       "DUE_AMT_OCT               0\n",
       "DUE_AMT_NOV               0\n",
       "DUE_AMT_DEC               0\n",
       "PAID_AMT_JULY             0\n",
       "PAID_AMT_AUG              0\n",
       "PAID_AMT_SEP              0\n",
       "PAID_AMT_OCT              0\n",
       "PAID_AMT_NOV              0\n",
       "PAID_AMT_DEC              0\n",
       "Average Paid              0\n",
       "Average Due               0\n",
       "NEXT_MONTH_DEFAULT        0\n",
       "Total Paid                0\n",
       "Total Due                 0\n",
       "Unnamed: 29           23909\n",
       "dtype: int64"
      ]
     },
     "execution_count": 9,
     "metadata": {},
     "output_type": "execute_result"
    }
   ],
   "source": [
    "#check null\n",
    "df.isnull().sum()"
   ]
  },
  {
   "cell_type": "code",
   "execution_count": 10,
   "metadata": {},
   "outputs": [],
   "source": [
    "#changing credit limit to numeric\n",
    "df['balance_unclean']=(df['Balance_Limit_V1'].str.strip().str.findall(r'[0-9]*')).apply(lambda x:''.join(x))\n",
    "df['balance_thousand']=df['Balance_Limit_V1'].str.strip().str.replace(r'[0-9.]*','')\n",
    "df['balance_limit_clean']=0\n",
    "df.loc[df['balance_thousand']=='K','balance_limit_clean']=df['balance_unclean'].astype(int)*1000\n",
    "df.loc[df['balance_thousand']=='M','balance_limit_clean']=df['balance_unclean'].astype(int)*100000\n",
    "\n",
    "df=df.drop(['balance_thousand','balance_unclean'],axis=1)"
   ]
  },
  {
   "cell_type": "code",
   "execution_count": 11,
   "metadata": {},
   "outputs": [
    {
     "name": "stdout",
     "output_type": "stream",
     "text": [
      "['31-45' 'Less than 30' '46-65' 'More than 65']\n"
     ]
    }
   ],
   "source": [
    "#Change Age to more understandable categories\n",
    "print(df.AGE.unique())\n",
    "df['Age_int']=df['AGE']\n",
    "df['Age_int']=df['Age_int'].str.replace('Less than 30','24')\n",
    "df['Age_int']=df['Age_int'].str.replace('31-45','38')\n",
    "df['Age_int']=df['Age_int'].str.replace('46-65','55')\n",
    "df['Age_int']=df['Age_int'].str.replace('More than 65','75')\n",
    "df['Age_int']=df['Age_int'].astype(int)"
   ]
  },
  {
   "cell_type": "code",
   "execution_count": 12,
   "metadata": {},
   "outputs": [
    {
     "data": {
      "text/plain": [
       "0   -1.000000\n",
       "1   -0.666667\n",
       "2    1.166667\n",
       "3    0.333333\n",
       "4    0.666667\n",
       "Name: Avg_Late, dtype: float64"
      ]
     },
     "execution_count": 12,
     "metadata": {},
     "output_type": "execute_result"
    }
   ],
   "source": [
    "#Compute average latness\n",
    "df['Avg_Late']=df[['PAY_JULY','PAY_AUG','PAY_SEP','PAY_OCT','PAY_NOV','PAY_DEC']].mean(axis=1)\n",
    "df['Avg_Late'].head()"
   ]
  },
  {
   "cell_type": "code",
   "execution_count": 13,
   "metadata": {},
   "outputs": [],
   "source": [
    "#compute difference between due and paid amount\n",
    "df['July_Excess']=df['PAID_AMT_JULY']-df['DUE_AMT_JULY']\n",
    "df['Aug_Excess']=df['PAID_AMT_AUG']-df['DUE_AMT_AUG']\n",
    "df['Sep_Excess']=df['PAID_AMT_SEP']-df['DUE_AMT_SEP']\n",
    "df['Oct_Excess']=df['PAID_AMT_OCT']-df['DUE_AMT_OCT']\n",
    "df['Nov_Excess']=df['PAID_AMT_NOV']-df['DUE_AMT_NOV']\n",
    "df['Dec_Excess']=df['PAID_AMT_DEC']-df['DUE_AMT_DEC']\n"
   ]
  },
  {
   "cell_type": "code",
   "execution_count": 14,
   "metadata": {},
   "outputs": [],
   "source": [
    "#Extract only neccessary columns\n",
    "df_clean=df[['Gender','EDUCATION_STATUS','MARITAL_STATUS','balance_limit_clean','Age_int'\n",
    "             ,'Avg_Late','PAID_AMT_JULY','PAID_AMT_AUG','PAID_AMT_SEP','PAID_AMT_OCT','PAID_AMT_NOV','PAID_AMT_DEC',\n",
    "            'DUE_AMT_JULY','DUE_AMT_AUG','DUE_AMT_SEP','DUE_AMT_OCT','DUE_AMT_NOV','DUE_AMT_DEC','July_Excess', 'Aug_Excess', 'Sep_Excess',\n",
    "           'Oct_Excess', 'Nov_Excess', 'Dec_Excess','NEXT_MONTH_DEFAULT']]"
   ]
  },
  {
   "cell_type": "markdown",
   "metadata": {},
   "source": [
    "# Data Preprocessing"
   ]
  },
  {
   "cell_type": "markdown",
   "metadata": {},
   "source": [
    "### Getting dummies and splitting test set"
   ]
  },
  {
   "cell_type": "code",
   "execution_count": 15,
   "metadata": {},
   "outputs": [],
   "source": [
    "#get dummies\n",
    "df_dummy=pd.get_dummies(df_clean)"
   ]
  },
  {
   "cell_type": "code",
   "execution_count": 16,
   "metadata": {},
   "outputs": [
    {
     "data": {
      "text/html": [
       "<div>\n",
       "<style scoped>\n",
       "    .dataframe tbody tr th:only-of-type {\n",
       "        vertical-align: middle;\n",
       "    }\n",
       "\n",
       "    .dataframe tbody tr th {\n",
       "        vertical-align: top;\n",
       "    }\n",
       "\n",
       "    .dataframe thead th {\n",
       "        text-align: right;\n",
       "    }\n",
       "</style>\n",
       "<table border=\"1\" class=\"dataframe\">\n",
       "  <thead>\n",
       "    <tr style=\"text-align: right;\">\n",
       "      <th></th>\n",
       "      <th>balance_limit_clean</th>\n",
       "      <th>Age_int</th>\n",
       "      <th>Avg_Late</th>\n",
       "      <th>PAID_AMT_JULY</th>\n",
       "      <th>PAID_AMT_AUG</th>\n",
       "      <th>PAID_AMT_SEP</th>\n",
       "      <th>PAID_AMT_OCT</th>\n",
       "      <th>PAID_AMT_NOV</th>\n",
       "      <th>PAID_AMT_DEC</th>\n",
       "      <th>DUE_AMT_JULY</th>\n",
       "      <th>...</th>\n",
       "      <th>Nov_Excess</th>\n",
       "      <th>Dec_Excess</th>\n",
       "      <th>NEXT_MONTH_DEFAULT</th>\n",
       "      <th>Gender_F</th>\n",
       "      <th>Gender_M</th>\n",
       "      <th>EDUCATION_STATUS_Graduate</th>\n",
       "      <th>EDUCATION_STATUS_High School</th>\n",
       "      <th>EDUCATION_STATUS_Other</th>\n",
       "      <th>MARITAL_STATUS_Other</th>\n",
       "      <th>MARITAL_STATUS_Single</th>\n",
       "    </tr>\n",
       "  </thead>\n",
       "  <tbody>\n",
       "    <tr>\n",
       "      <th>0</th>\n",
       "      <td>100000</td>\n",
       "      <td>38</td>\n",
       "      <td>-1.000000</td>\n",
       "      <td>3437</td>\n",
       "      <td>6004</td>\n",
       "      <td>39418</td>\n",
       "      <td>162772</td>\n",
       "      <td>0</td>\n",
       "      <td>538165</td>\n",
       "      <td>3248</td>\n",
       "      <td>...</td>\n",
       "      <td>-162772</td>\n",
       "      <td>552147</td>\n",
       "      <td>0</td>\n",
       "      <td>0</td>\n",
       "      <td>1</td>\n",
       "      <td>1</td>\n",
       "      <td>0</td>\n",
       "      <td>0</td>\n",
       "      <td>1</td>\n",
       "      <td>0</td>\n",
       "    </tr>\n",
       "    <tr>\n",
       "      <th>1</th>\n",
       "      <td>100000</td>\n",
       "      <td>24</td>\n",
       "      <td>-0.666667</td>\n",
       "      <td>151818</td>\n",
       "      <td>46200</td>\n",
       "      <td>43530</td>\n",
       "      <td>80811</td>\n",
       "      <td>942</td>\n",
       "      <td>33666</td>\n",
       "      <td>353351</td>\n",
       "      <td>...</td>\n",
       "      <td>-79869</td>\n",
       "      <td>-90924</td>\n",
       "      <td>0</td>\n",
       "      <td>1</td>\n",
       "      <td>0</td>\n",
       "      <td>0</td>\n",
       "      <td>1</td>\n",
       "      <td>0</td>\n",
       "      <td>1</td>\n",
       "      <td>0</td>\n",
       "    </tr>\n",
       "    <tr>\n",
       "      <th>2</th>\n",
       "      <td>100000</td>\n",
       "      <td>38</td>\n",
       "      <td>1.166667</td>\n",
       "      <td>0</td>\n",
       "      <td>0</td>\n",
       "      <td>0</td>\n",
       "      <td>0</td>\n",
       "      <td>0</td>\n",
       "      <td>0</td>\n",
       "      <td>16681</td>\n",
       "      <td>...</td>\n",
       "      <td>0</td>\n",
       "      <td>0</td>\n",
       "      <td>1</td>\n",
       "      <td>1</td>\n",
       "      <td>0</td>\n",
       "      <td>0</td>\n",
       "      <td>1</td>\n",
       "      <td>0</td>\n",
       "      <td>0</td>\n",
       "      <td>1</td>\n",
       "    </tr>\n",
       "    <tr>\n",
       "      <th>3</th>\n",
       "      <td>200000</td>\n",
       "      <td>38</td>\n",
       "      <td>0.333333</td>\n",
       "      <td>3855</td>\n",
       "      <td>3890</td>\n",
       "      <td>3696</td>\n",
       "      <td>4620</td>\n",
       "      <td>4049</td>\n",
       "      <td>3918</td>\n",
       "      <td>90457</td>\n",
       "      <td>...</td>\n",
       "      <td>-96304</td>\n",
       "      <td>-98822</td>\n",
       "      <td>1</td>\n",
       "      <td>1</td>\n",
       "      <td>0</td>\n",
       "      <td>1</td>\n",
       "      <td>0</td>\n",
       "      <td>0</td>\n",
       "      <td>0</td>\n",
       "      <td>1</td>\n",
       "    </tr>\n",
       "    <tr>\n",
       "      <th>4</th>\n",
       "      <td>100000</td>\n",
       "      <td>38</td>\n",
       "      <td>0.666667</td>\n",
       "      <td>0</td>\n",
       "      <td>20790</td>\n",
       "      <td>16170</td>\n",
       "      <td>17325</td>\n",
       "      <td>16401</td>\n",
       "      <td>17325</td>\n",
       "      <td>429556</td>\n",
       "      <td>...</td>\n",
       "      <td>-428870</td>\n",
       "      <td>-436574</td>\n",
       "      <td>0</td>\n",
       "      <td>1</td>\n",
       "      <td>0</td>\n",
       "      <td>1</td>\n",
       "      <td>0</td>\n",
       "      <td>0</td>\n",
       "      <td>1</td>\n",
       "      <td>0</td>\n",
       "    </tr>\n",
       "  </tbody>\n",
       "</table>\n",
       "<p>5 rows × 29 columns</p>\n",
       "</div>"
      ],
      "text/plain": [
       "   balance_limit_clean  Age_int  Avg_Late  PAID_AMT_JULY  PAID_AMT_AUG  \\\n",
       "0               100000       38 -1.000000           3437          6004   \n",
       "1               100000       24 -0.666667         151818         46200   \n",
       "2               100000       38  1.166667              0             0   \n",
       "3               200000       38  0.333333           3855          3890   \n",
       "4               100000       38  0.666667              0         20790   \n",
       "\n",
       "   PAID_AMT_SEP  PAID_AMT_OCT  PAID_AMT_NOV  PAID_AMT_DEC  DUE_AMT_JULY  ...  \\\n",
       "0         39418        162772             0        538165          3248  ...   \n",
       "1         43530         80811           942         33666        353351  ...   \n",
       "2             0             0             0             0         16681  ...   \n",
       "3          3696          4620          4049          3918         90457  ...   \n",
       "4         16170         17325         16401         17325        429556  ...   \n",
       "\n",
       "   Nov_Excess  Dec_Excess  NEXT_MONTH_DEFAULT  Gender_F  Gender_M  \\\n",
       "0     -162772      552147                   0         0         1   \n",
       "1      -79869      -90924                   0         1         0   \n",
       "2           0           0                   1         1         0   \n",
       "3      -96304      -98822                   1         1         0   \n",
       "4     -428870     -436574                   0         1         0   \n",
       "\n",
       "   EDUCATION_STATUS_Graduate  EDUCATION_STATUS_High School  \\\n",
       "0                          1                             0   \n",
       "1                          0                             1   \n",
       "2                          0                             1   \n",
       "3                          1                             0   \n",
       "4                          1                             0   \n",
       "\n",
       "   EDUCATION_STATUS_Other  MARITAL_STATUS_Other  MARITAL_STATUS_Single  \n",
       "0                       0                     1                      0  \n",
       "1                       0                     1                      0  \n",
       "2                       0                     0                      1  \n",
       "3                       0                     0                      1  \n",
       "4                       0                     1                      0  \n",
       "\n",
       "[5 rows x 29 columns]"
      ]
     },
     "execution_count": 16,
     "metadata": {},
     "output_type": "execute_result"
    }
   ],
   "source": [
    "df_dummy.head()"
   ]
  },
  {
   "cell_type": "code",
   "execution_count": 17,
   "metadata": {},
   "outputs": [],
   "source": [
    "#Get dependant and independant variables\n",
    "y=df_dummy['NEXT_MONTH_DEFAULT']\n",
    "X=df_dummy.drop('NEXT_MONTH_DEFAULT',axis=1)\n",
    "variable_y='NEXT_MONTH_DEFAULT'\n",
    "variable_x=X.columns"
   ]
  },
  {
   "cell_type": "code",
   "execution_count": 18,
   "metadata": {},
   "outputs": [],
   "source": [
    "#train test split\n",
    "from sklearn.model_selection import train_test_split\n",
    "X_train, X_test, y_train, y_test = train_test_split(X, y, test_size=0.2, random_state=1)"
   ]
  },
  {
   "cell_type": "markdown",
   "metadata": {},
   "source": [
    "### Feature Selection"
   ]
  },
  {
   "cell_type": "code",
   "execution_count": 19,
   "metadata": {},
   "outputs": [],
   "source": [
    "#import algorithm from sklearn\n",
    "from sklearn.feature_selection import SelectKBest"
   ]
  },
  {
   "cell_type": "code",
   "execution_count": 20,
   "metadata": {},
   "outputs": [],
   "source": [
    "#initiate and fit algorithm\n",
    "fs = SelectKBest( k='all')\n",
    "fs.fit(X_train, y_train)\n",
    "X_train_fs = fs.transform(X_train)"
   ]
  },
  {
   "cell_type": "code",
   "execution_count": 21,
   "metadata": {},
   "outputs": [
    {
     "name": "stdout",
     "output_type": "stream",
     "text": [
      "balance_limit_clean: 84.580600\n",
      "Age_int: 1.254653\n",
      "Avg_Late: 1622.968885\n",
      "PAID_AMT_JULY: 106.827133\n",
      "PAID_AMT_AUG: 65.105384\n",
      "PAID_AMT_SEP: 63.627178\n",
      "PAID_AMT_OCT: 61.895330\n",
      "PAID_AMT_NOV: 48.470377\n",
      "PAID_AMT_DEC: 48.743820\n",
      "DUE_AMT_JULY: 6.527118\n",
      "DUE_AMT_AUG: 3.190312\n",
      "DUE_AMT_SEP: 2.633256\n",
      "DUE_AMT_OCT: 0.575589\n",
      "DUE_AMT_NOV: 0.175414\n",
      "DUE_AMT_DEC: 0.169644\n",
      "July_Excess: 0.100434\n",
      "Aug_Excess: 0.862333\n",
      "Sep_Excess: 0.082403\n",
      "Oct_Excess: 1.319536\n",
      "Nov_Excess: 2.011770\n",
      "Dec_Excess: 3.074291\n",
      "Gender_F: 27.432049\n",
      "Gender_M: 27.432049\n",
      "EDUCATION_STATUS_Graduate: 47.158860\n",
      "EDUCATION_STATUS_High School: 21.661690\n",
      "EDUCATION_STATUS_Other: 9.680518\n",
      "MARITAL_STATUS_Other: 18.371041\n",
      "MARITAL_STATUS_Single: 18.371041\n"
     ]
    }
   ],
   "source": [
    "# match variables and score to dictionary\n",
    "variable_score={}\n",
    "for i in range(len(fs.scores_)):\n",
    "    variable_score[variable_x[i]]=fs.scores_[i]\n",
    "    print('%s: %f' % (variable_x[i], fs.scores_[i]))"
   ]
  },
  {
   "cell_type": "code",
   "execution_count": 22,
   "metadata": {},
   "outputs": [],
   "source": [
    "#drop variables with low importance score\n",
    "for k,v in variable_score.items():\n",
    "    if v<9:\n",
    "        x_train=X_train.drop(k,axis=1)\n",
    "        x_test=X_test.drop(k,axis=1)\n",
    "    "
   ]
  },
  {
   "cell_type": "code",
   "execution_count": 23,
   "metadata": {},
   "outputs": [
    {
     "data": {
      "text/html": [
       "<div>\n",
       "<style scoped>\n",
       "    .dataframe tbody tr th:only-of-type {\n",
       "        vertical-align: middle;\n",
       "    }\n",
       "\n",
       "    .dataframe tbody tr th {\n",
       "        vertical-align: top;\n",
       "    }\n",
       "\n",
       "    .dataframe thead th {\n",
       "        text-align: right;\n",
       "    }\n",
       "</style>\n",
       "<table border=\"1\" class=\"dataframe\">\n",
       "  <thead>\n",
       "    <tr style=\"text-align: right;\">\n",
       "      <th></th>\n",
       "      <th>balance_limit_clean</th>\n",
       "      <th>Age_int</th>\n",
       "      <th>Avg_Late</th>\n",
       "      <th>PAID_AMT_JULY</th>\n",
       "      <th>PAID_AMT_AUG</th>\n",
       "      <th>PAID_AMT_SEP</th>\n",
       "      <th>PAID_AMT_OCT</th>\n",
       "      <th>PAID_AMT_NOV</th>\n",
       "      <th>PAID_AMT_DEC</th>\n",
       "      <th>DUE_AMT_JULY</th>\n",
       "      <th>...</th>\n",
       "      <th>Oct_Excess</th>\n",
       "      <th>Nov_Excess</th>\n",
       "      <th>Dec_Excess</th>\n",
       "      <th>Gender_F</th>\n",
       "      <th>Gender_M</th>\n",
       "      <th>EDUCATION_STATUS_Graduate</th>\n",
       "      <th>EDUCATION_STATUS_High School</th>\n",
       "      <th>EDUCATION_STATUS_Other</th>\n",
       "      <th>MARITAL_STATUS_Other</th>\n",
       "      <th>MARITAL_STATUS_Single</th>\n",
       "    </tr>\n",
       "  </thead>\n",
       "  <tbody>\n",
       "    <tr>\n",
       "      <th>0</th>\n",
       "      <td>100000</td>\n",
       "      <td>38</td>\n",
       "      <td>-1.000000</td>\n",
       "      <td>3437</td>\n",
       "      <td>6004</td>\n",
       "      <td>39418</td>\n",
       "      <td>162772</td>\n",
       "      <td>0</td>\n",
       "      <td>538165</td>\n",
       "      <td>3248</td>\n",
       "      <td>...</td>\n",
       "      <td>123354</td>\n",
       "      <td>-162772</td>\n",
       "      <td>552147</td>\n",
       "      <td>0</td>\n",
       "      <td>1</td>\n",
       "      <td>1</td>\n",
       "      <td>0</td>\n",
       "      <td>0</td>\n",
       "      <td>1</td>\n",
       "      <td>0</td>\n",
       "    </tr>\n",
       "    <tr>\n",
       "      <th>1</th>\n",
       "      <td>100000</td>\n",
       "      <td>24</td>\n",
       "      <td>-0.666667</td>\n",
       "      <td>151818</td>\n",
       "      <td>46200</td>\n",
       "      <td>43530</td>\n",
       "      <td>80811</td>\n",
       "      <td>942</td>\n",
       "      <td>33666</td>\n",
       "      <td>353351</td>\n",
       "      <td>...</td>\n",
       "      <td>37281</td>\n",
       "      <td>-79869</td>\n",
       "      <td>-90924</td>\n",
       "      <td>1</td>\n",
       "      <td>0</td>\n",
       "      <td>0</td>\n",
       "      <td>1</td>\n",
       "      <td>0</td>\n",
       "      <td>1</td>\n",
       "      <td>0</td>\n",
       "    </tr>\n",
       "    <tr>\n",
       "      <th>2</th>\n",
       "      <td>100000</td>\n",
       "      <td>38</td>\n",
       "      <td>1.166667</td>\n",
       "      <td>0</td>\n",
       "      <td>0</td>\n",
       "      <td>0</td>\n",
       "      <td>0</td>\n",
       "      <td>0</td>\n",
       "      <td>0</td>\n",
       "      <td>16681</td>\n",
       "      <td>...</td>\n",
       "      <td>0</td>\n",
       "      <td>0</td>\n",
       "      <td>0</td>\n",
       "      <td>1</td>\n",
       "      <td>0</td>\n",
       "      <td>0</td>\n",
       "      <td>1</td>\n",
       "      <td>0</td>\n",
       "      <td>0</td>\n",
       "      <td>1</td>\n",
       "    </tr>\n",
       "    <tr>\n",
       "      <th>3</th>\n",
       "      <td>200000</td>\n",
       "      <td>38</td>\n",
       "      <td>0.333333</td>\n",
       "      <td>3855</td>\n",
       "      <td>3890</td>\n",
       "      <td>3696</td>\n",
       "      <td>4620</td>\n",
       "      <td>4049</td>\n",
       "      <td>3918</td>\n",
       "      <td>90457</td>\n",
       "      <td>...</td>\n",
       "      <td>-92689</td>\n",
       "      <td>-96304</td>\n",
       "      <td>-98822</td>\n",
       "      <td>1</td>\n",
       "      <td>0</td>\n",
       "      <td>1</td>\n",
       "      <td>0</td>\n",
       "      <td>0</td>\n",
       "      <td>0</td>\n",
       "      <td>1</td>\n",
       "    </tr>\n",
       "    <tr>\n",
       "      <th>4</th>\n",
       "      <td>100000</td>\n",
       "      <td>38</td>\n",
       "      <td>0.666667</td>\n",
       "      <td>0</td>\n",
       "      <td>20790</td>\n",
       "      <td>16170</td>\n",
       "      <td>17325</td>\n",
       "      <td>16401</td>\n",
       "      <td>17325</td>\n",
       "      <td>429556</td>\n",
       "      <td>...</td>\n",
       "      <td>-418029</td>\n",
       "      <td>-428870</td>\n",
       "      <td>-436574</td>\n",
       "      <td>1</td>\n",
       "      <td>0</td>\n",
       "      <td>1</td>\n",
       "      <td>0</td>\n",
       "      <td>0</td>\n",
       "      <td>1</td>\n",
       "      <td>0</td>\n",
       "    </tr>\n",
       "  </tbody>\n",
       "</table>\n",
       "<p>5 rows × 28 columns</p>\n",
       "</div>"
      ],
      "text/plain": [
       "   balance_limit_clean  Age_int  Avg_Late  PAID_AMT_JULY  PAID_AMT_AUG  \\\n",
       "0               100000       38 -1.000000           3437          6004   \n",
       "1               100000       24 -0.666667         151818         46200   \n",
       "2               100000       38  1.166667              0             0   \n",
       "3               200000       38  0.333333           3855          3890   \n",
       "4               100000       38  0.666667              0         20790   \n",
       "\n",
       "   PAID_AMT_SEP  PAID_AMT_OCT  PAID_AMT_NOV  PAID_AMT_DEC  DUE_AMT_JULY  ...  \\\n",
       "0         39418        162772             0        538165          3248  ...   \n",
       "1         43530         80811           942         33666        353351  ...   \n",
       "2             0             0             0             0         16681  ...   \n",
       "3          3696          4620          4049          3918         90457  ...   \n",
       "4         16170         17325         16401         17325        429556  ...   \n",
       "\n",
       "   Oct_Excess  Nov_Excess  Dec_Excess  Gender_F  Gender_M  \\\n",
       "0      123354     -162772      552147         0         1   \n",
       "1       37281      -79869      -90924         1         0   \n",
       "2           0           0           0         1         0   \n",
       "3      -92689      -96304      -98822         1         0   \n",
       "4     -418029     -428870     -436574         1         0   \n",
       "\n",
       "   EDUCATION_STATUS_Graduate  EDUCATION_STATUS_High School  \\\n",
       "0                          1                             0   \n",
       "1                          0                             1   \n",
       "2                          0                             1   \n",
       "3                          1                             0   \n",
       "4                          1                             0   \n",
       "\n",
       "   EDUCATION_STATUS_Other  MARITAL_STATUS_Other  MARITAL_STATUS_Single  \n",
       "0                       0                     1                      0  \n",
       "1                       0                     1                      0  \n",
       "2                       0                     0                      1  \n",
       "3                       0                     0                      1  \n",
       "4                       0                     1                      0  \n",
       "\n",
       "[5 rows x 28 columns]"
      ]
     },
     "execution_count": 23,
     "metadata": {},
     "output_type": "execute_result"
    }
   ],
   "source": [
    "X.head()"
   ]
  },
  {
   "cell_type": "markdown",
   "metadata": {},
   "source": [
    "# Fit Random Forest"
   ]
  },
  {
   "cell_type": "code",
   "execution_count": 24,
   "metadata": {},
   "outputs": [
    {
     "data": {
      "text/plain": [
       "RandomForestClassifier(bootstrap=True, class_weight=None, criterion='gini',\n",
       "                       max_depth=25, max_features='auto', max_leaf_nodes=None,\n",
       "                       min_impurity_decrease=0.0, min_impurity_split=None,\n",
       "                       min_samples_leaf=7, min_samples_split=8,\n",
       "                       min_weight_fraction_leaf=0.0, n_estimators=800,\n",
       "                       n_jobs=None, oob_score=False, random_state=None,\n",
       "                       verbose=0, warm_start=False)"
      ]
     },
     "execution_count": 24,
     "metadata": {},
     "output_type": "execute_result"
    }
   ],
   "source": [
    "#import and fit model\n",
    "from sklearn.ensemble import RandomForestClassifier\n",
    "  \n",
    "rf_clf = RandomForestClassifier(n_estimators=800, criterion='gini', max_depth=25, \n",
    "                                min_samples_split=8, min_samples_leaf=7, min_weight_fraction_leaf=0.0, \n",
    "                                max_features='auto') \n",
    "  \n",
    "rf_clf.fit(X_train, y_train)   "
   ]
  },
  {
   "cell_type": "code",
   "execution_count": 25,
   "metadata": {},
   "outputs": [],
   "source": [
    "#predict for test set\n",
    "y_pred = rf_clf.predict(X_test)"
   ]
  },
  {
   "cell_type": "code",
   "execution_count": 26,
   "metadata": {},
   "outputs": [
    {
     "name": "stdout",
     "output_type": "stream",
     "text": [
      "              precision    recall  f1-score   support\n",
      "\n",
      "           0       0.83      0.95      0.89      3754\n",
      "           1       0.62      0.32      0.42      1046\n",
      "\n",
      "    accuracy                           0.81      4800\n",
      "   macro avg       0.73      0.63      0.65      4800\n",
      "weighted avg       0.79      0.81      0.78      4800\n",
      "\n"
     ]
    }
   ],
   "source": [
    "#Evaluate model\n",
    "from sklearn import metrics\n",
    "print(metrics.classification_report(y_test, y_pred))"
   ]
  },
  {
   "cell_type": "code",
   "execution_count": 29,
   "metadata": {},
   "outputs": [
    {
     "data": {
      "text/plain": [
       "0.80875"
      ]
     },
     "execution_count": 29,
     "metadata": {},
     "output_type": "execute_result"
    }
   ],
   "source": [
    "metrics.accuracy_score(y_test, y_pred)"
   ]
  },
  {
   "cell_type": "code",
   "execution_count": 27,
   "metadata": {},
   "outputs": [
    {
     "data": {
      "image/png": "[encoded data removed]",
      "text/plain": [
       "<Figure size 1152x288 with 1 Axes>"
      ]
     },
     "metadata": {
      "needs_background": "light"
     },
     "output_type": "display_data"
    }
   ],
   "source": [
    "#View feature importance again\n",
    "tmp = pd.DataFrame({'Feature': variable_x, 'Feature importance': rf_clf.feature_importances_})\n",
    "tmp = tmp.sort_values(by='Feature importance',ascending=False)\n",
    "plt.figure(figsize = (16,4))\n",
    "plt.title('Features importance',fontsize=14)\n",
    "s = sns.barplot(x='Feature',y='Feature importance',data=tmp)\n",
    "s.set_xticklabels(s.get_xticklabels(),rotation=90)\n",
    "plt.show()\n"
   ]
  },
  {
   "cell_type": "markdown",
   "metadata": {},
   "source": [
    "# Fit XGBoost"
   ]
  },
  {
   "cell_type": "code",
   "execution_count": 30,
   "metadata": {},
   "outputs": [],
   "source": [
    "#import library\n",
    "import xgboost as xgb"
   ]
  },
  {
   "cell_type": "code",
   "execution_count": 31,
   "metadata": {},
   "outputs": [
    {
     "data": {
      "text/plain": [
       "XGBClassifier(base_score=0.5, booster='gbtree', colsample_bylevel=1,\n",
       "              colsample_bynode=1, colsample_bytree=1, gamma=0,\n",
       "              learning_rate=0.1, max_delta_step=0, max_depth=3,\n",
       "              min_child_weight=1, missing=None, n_estimators=100, n_jobs=1,\n",
       "              nthread=None, objective='binary:logistic',\n",
       "              params={'eta': 0.15, 'max_depth': 25, 'n_estimators': 800},\n",
       "              random_state=0, reg_alpha=0, reg_lambda=1, scale_pos_weight=1,\n",
       "              seed=None, silent=None, steps=50, subsample=1, verbosity=1)"
      ]
     },
     "execution_count": 31,
     "metadata": {},
     "output_type": "execute_result"
    }
   ],
   "source": [
    "#initiate and fit model\n",
    "model = xgb.XGBClassifier(params={'n_estimators':800,'max_depth':25,'eta':0.15},steps=50\n",
    "                         )\n",
    "model.fit(X_train, y_train)"
   ]
  },
  {
   "cell_type": "code",
   "execution_count": 32,
   "metadata": {},
   "outputs": [],
   "source": [
    "#predict\n",
    "y_pred = model.predict(X_test)"
   ]
  },
  {
   "cell_type": "code",
   "execution_count": 33,
   "metadata": {},
   "outputs": [
    {
     "name": "stdout",
     "output_type": "stream",
     "text": [
      "              precision    recall  f1-score   support\n",
      "\n",
      "           0       0.83      0.94      0.89      3754\n",
      "           1       0.62      0.33      0.43      1046\n",
      "\n",
      "    accuracy                           0.81      4800\n",
      "   macro avg       0.73      0.64      0.66      4800\n",
      "weighted avg       0.79      0.81      0.79      4800\n",
      "\n"
     ]
    }
   ],
   "source": [
    "#fit\n",
    "from sklearn import metrics\n",
    "print(metrics.classification_report(y_test, y_pred))"
   ]
  },
  {
   "cell_type": "code",
   "execution_count": 34,
   "metadata": {},
   "outputs": [
    {
     "data": {
      "text/plain": [
       "0.809375"
      ]
     },
     "execution_count": 34,
     "metadata": {},
     "output_type": "execute_result"
    }
   ],
   "source": [
    "metrics.accuracy_score(y_test, y_pred)"
   ]
  },
  {
   "cell_type": "code",
   "execution_count": 35,
   "metadata": {},
   "outputs": [],
   "source": [
    "import lightgbm as lgb"
   ]
  },
  {
   "cell_type": "code",
   "execution_count": 36,
   "metadata": {},
   "outputs": [],
   "source": [
    "lgb_clf=lgb.LGBMClassifier(n_estimators =700)\n",
    "lgbm=lgb_clf.fit(X_train,y_train)"
   ]
  },
  {
   "cell_type": "code",
   "execution_count": 39,
   "metadata": {},
   "outputs": [
    {
     "name": "stdout",
     "output_type": "stream",
     "text": [
      "              precision    recall  f1-score   support\n",
      "\n",
      "           0       0.83      0.94      0.88      3754\n",
      "           1       0.59      0.33      0.42      1046\n",
      "\n",
      "    accuracy                           0.80      4800\n",
      "   macro avg       0.71      0.63      0.65      4800\n",
      "weighted avg       0.78      0.80      0.78      4800\n",
      "\n"
     ]
    }
   ],
   "source": [
    "y_pred=lgbm.predict(X_test)\n",
    "from sklearn import metrics\n",
    "print(metrics.classification_report(y_test, y_pred))"
   ]
  },
  {
   "cell_type": "code",
   "execution_count": 40,
   "metadata": {},
   "outputs": [
    {
     "data": {
      "text/plain": [
       "0.80375"
      ]
     },
     "execution_count": 40,
     "metadata": {},
     "output_type": "execute_result"
    }
   ],
   "source": [
    "metrics.accuracy_score(y_test, y_pred)"
   ]
  },
  {
   "cell_type": "code",
   "execution_count": null,
   "metadata": {},
   "outputs": [],
   "source": []
  }
 ],
 "metadata": {
  "kernelspec": {
   "display_name": "Python 3",
   "language": "python",
   "name": "python3"
  },
  "language_info": {
   "codemirror_mode": {
    "name": "ipython",
    "version": 3
   },
   "file_extension": ".py",
   "mimetype": "text/x-python",
   "name": "python",
   "nbconvert_exporter": "python",
   "pygments_lexer": "ipython3",
   "version": "3.7.3"
  }
 },
 "nbformat": 4,
 "nbformat_minor": 1
}

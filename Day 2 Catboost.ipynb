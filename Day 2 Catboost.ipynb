{
 "cells": [
  {
   "cell_type": "code",
   "execution_count": 1,
   "metadata": {
    "_cell_guid": "b1076dfc-b9ad-4769-8c92-a6c4dae69d19",
    "_uuid": "8f2839f25d086af736a60e9eeb907d3b93b6e0e5"
   },
   "outputs": [
    {
     "name": "stdout",
     "output_type": "stream",
     "text": [
      "/kaggle/input/data-storm-10/DATA STORM 1.0 - First Round Competition Guidlines.pdf\n",
      "/kaggle/input/data-storm-10/credit_card_default_test.csv\n",
      "/kaggle/input/data-storm-10/credit_card_default_train.csv\n",
      "/kaggle/input/data-storm-10/Credit_card_default - Business Problem - Assessment Criteria - Data Dictionary.xlsx\n"
     ]
    }
   ],
   "source": [
    "# This Python 3 environment comes with many helpful analytics libraries installed\n",
    "# It is defined by the kaggle/python docker image: https://github.com/kaggle/docker-python\n",
    "# For example, here's several helpful packages to load in \n",
    "\n",
    "import numpy as np # linear algebra\n",
    "import pandas as pd # data processing, CSV file I/O (e.g. pd.read_csv)\n",
    "\n",
    "# Input data files are available in the \"../input/\" directory.\n",
    "# For example, running this (by clicking run or pressing Shift+Enter) will list all files under the input directory\n",
    "\n",
    "import os\n",
    "for dirname, _, filenames in os.walk('/kaggle/input'):\n",
    "    for filename in filenames:\n",
    "        print(os.path.join(dirname, filename))\n",
    "\n",
    "# Any results you write to the current directory are saved as output."
   ]
  },
  {
   "cell_type": "code",
   "execution_count": 2,
   "metadata": {},
   "outputs": [],
   "source": [
    "import matplotlib.pyplot as plt\n",
    "import seaborn as sns"
   ]
  },
  {
   "cell_type": "markdown",
   "metadata": {},
   "source": [
    "# Data loading and preprocessing"
   ]
  },
  {
   "cell_type": "code",
   "execution_count": 3,
   "metadata": {},
   "outputs": [],
   "source": [
    "#Load data\n",
    "df=pd.read_csv('/kaggle/input/data-storm-10/credit_card_default_train.csv')"
   ]
  },
  {
   "cell_type": "code",
   "execution_count": 4,
   "metadata": {},
   "outputs": [
    {
     "data": {
      "text/html": [
       "<div>\n",
       "<style scoped>\n",
       "    .dataframe tbody tr th:only-of-type {\n",
       "        vertical-align: middle;\n",
       "    }\n",
       "\n",
       "    .dataframe tbody tr th {\n",
       "        vertical-align: top;\n",
       "    }\n",
       "\n",
       "    .dataframe thead th {\n",
       "        text-align: right;\n",
       "    }\n",
       "</style>\n",
       "<table border=\"1\" class=\"dataframe\">\n",
       "  <thead>\n",
       "    <tr style=\"text-align: right;\">\n",
       "      <th></th>\n",
       "      <th>Client_ID</th>\n",
       "      <th>Balance_Limit_V1</th>\n",
       "      <th>Gender</th>\n",
       "      <th>EDUCATION_STATUS</th>\n",
       "      <th>MARITAL_STATUS</th>\n",
       "      <th>AGE</th>\n",
       "      <th>PAY_JULY</th>\n",
       "      <th>PAY_AUG</th>\n",
       "      <th>PAY_SEP</th>\n",
       "      <th>PAY_OCT</th>\n",
       "      <th>...</th>\n",
       "      <th>DUE_AMT_OCT</th>\n",
       "      <th>DUE_AMT_NOV</th>\n",
       "      <th>DUE_AMT_DEC</th>\n",
       "      <th>PAID_AMT_JULY</th>\n",
       "      <th>PAID_AMT_AUG</th>\n",
       "      <th>PAID_AMT_SEP</th>\n",
       "      <th>PAID_AMT_OCT</th>\n",
       "      <th>PAID_AMT_NOV</th>\n",
       "      <th>PAID_AMT_DEC</th>\n",
       "      <th>NEXT_MONTH_DEFAULT</th>\n",
       "    </tr>\n",
       "  </thead>\n",
       "  <tbody>\n",
       "    <tr>\n",
       "      <th>0</th>\n",
       "      <td>A2</td>\n",
       "      <td>1M</td>\n",
       "      <td>M</td>\n",
       "      <td>Graduate</td>\n",
       "      <td>Other</td>\n",
       "      <td>31-45</td>\n",
       "      <td>-1</td>\n",
       "      <td>-1</td>\n",
       "      <td>-1</td>\n",
       "      <td>-1</td>\n",
       "      <td>...</td>\n",
       "      <td>39418</td>\n",
       "      <td>162772</td>\n",
       "      <td>-13982</td>\n",
       "      <td>3437</td>\n",
       "      <td>6004</td>\n",
       "      <td>39418</td>\n",
       "      <td>162772</td>\n",
       "      <td>0</td>\n",
       "      <td>538165</td>\n",
       "      <td>0</td>\n",
       "    </tr>\n",
       "    <tr>\n",
       "      <th>1</th>\n",
       "      <td>A3</td>\n",
       "      <td>1M</td>\n",
       "      <td>F</td>\n",
       "      <td>High School</td>\n",
       "      <td>Other</td>\n",
       "      <td>Less than 30</td>\n",
       "      <td>0</td>\n",
       "      <td>-1</td>\n",
       "      <td>-1</td>\n",
       "      <td>-1</td>\n",
       "      <td>...</td>\n",
       "      <td>43530</td>\n",
       "      <td>80811</td>\n",
       "      <td>124590</td>\n",
       "      <td>151818</td>\n",
       "      <td>46200</td>\n",
       "      <td>43530</td>\n",
       "      <td>80811</td>\n",
       "      <td>942</td>\n",
       "      <td>33666</td>\n",
       "      <td>0</td>\n",
       "    </tr>\n",
       "    <tr>\n",
       "      <th>2</th>\n",
       "      <td>A4</td>\n",
       "      <td>100K</td>\n",
       "      <td>F</td>\n",
       "      <td>High School</td>\n",
       "      <td>Single</td>\n",
       "      <td>31-45</td>\n",
       "      <td>4</td>\n",
       "      <td>3</td>\n",
       "      <td>2</td>\n",
       "      <td>2</td>\n",
       "      <td>...</td>\n",
       "      <td>0</td>\n",
       "      <td>0</td>\n",
       "      <td>0</td>\n",
       "      <td>0</td>\n",
       "      <td>0</td>\n",
       "      <td>0</td>\n",
       "      <td>0</td>\n",
       "      <td>0</td>\n",
       "      <td>0</td>\n",
       "      <td>1</td>\n",
       "    </tr>\n",
       "    <tr>\n",
       "      <th>3</th>\n",
       "      <td>A5</td>\n",
       "      <td>200K</td>\n",
       "      <td>F</td>\n",
       "      <td>Graduate</td>\n",
       "      <td>Single</td>\n",
       "      <td>31-45</td>\n",
       "      <td>2</td>\n",
       "      <td>0</td>\n",
       "      <td>0</td>\n",
       "      <td>0</td>\n",
       "      <td>...</td>\n",
       "      <td>97309</td>\n",
       "      <td>100353</td>\n",
       "      <td>102740</td>\n",
       "      <td>3855</td>\n",
       "      <td>3890</td>\n",
       "      <td>3696</td>\n",
       "      <td>4620</td>\n",
       "      <td>4049</td>\n",
       "      <td>3918</td>\n",
       "      <td>1</td>\n",
       "    </tr>\n",
       "    <tr>\n",
       "      <th>4</th>\n",
       "      <td>A6</td>\n",
       "      <td>1M</td>\n",
       "      <td>F</td>\n",
       "      <td>Graduate</td>\n",
       "      <td>Other</td>\n",
       "      <td>31-45</td>\n",
       "      <td>2</td>\n",
       "      <td>2</td>\n",
       "      <td>0</td>\n",
       "      <td>0</td>\n",
       "      <td>...</td>\n",
       "      <td>435354</td>\n",
       "      <td>445271</td>\n",
       "      <td>453899</td>\n",
       "      <td>0</td>\n",
       "      <td>20790</td>\n",
       "      <td>16170</td>\n",
       "      <td>17325</td>\n",
       "      <td>16401</td>\n",
       "      <td>17325</td>\n",
       "      <td>0</td>\n",
       "    </tr>\n",
       "  </tbody>\n",
       "</table>\n",
       "<p>5 rows × 25 columns</p>\n",
       "</div>"
      ],
      "text/plain": [
       "  Client_ID Balance_Limit_V1 Gender EDUCATION_STATUS MARITAL_STATUS  \\\n",
       "0        A2               1M      M         Graduate          Other   \n",
       "1        A3               1M      F      High School          Other   \n",
       "2        A4             100K      F      High School         Single   \n",
       "3        A5             200K      F         Graduate         Single   \n",
       "4        A6               1M      F         Graduate          Other   \n",
       "\n",
       "            AGE  PAY_JULY  PAY_AUG  PAY_SEP  PAY_OCT  ...  DUE_AMT_OCT  \\\n",
       "0         31-45        -1       -1       -1       -1  ...        39418   \n",
       "1  Less than 30         0       -1       -1       -1  ...        43530   \n",
       "2         31-45         4        3        2        2  ...            0   \n",
       "3         31-45         2        0        0        0  ...        97309   \n",
       "4         31-45         2        2        0        0  ...       435354   \n",
       "\n",
       "   DUE_AMT_NOV  DUE_AMT_DEC  PAID_AMT_JULY  PAID_AMT_AUG  PAID_AMT_SEP  \\\n",
       "0       162772       -13982           3437          6004         39418   \n",
       "1        80811       124590         151818         46200         43530   \n",
       "2            0            0              0             0             0   \n",
       "3       100353       102740           3855          3890          3696   \n",
       "4       445271       453899              0         20790         16170   \n",
       "\n",
       "   PAID_AMT_OCT  PAID_AMT_NOV  PAID_AMT_DEC  NEXT_MONTH_DEFAULT  \n",
       "0        162772             0        538165                   0  \n",
       "1         80811           942         33666                   0  \n",
       "2             0             0             0                   1  \n",
       "3          4620          4049          3918                   1  \n",
       "4         17325         16401         17325                   0  \n",
       "\n",
       "[5 rows x 25 columns]"
      ]
     },
     "execution_count": 4,
     "metadata": {},
     "output_type": "execute_result"
    }
   ],
   "source": [
    "df.head()"
   ]
  },
  {
   "cell_type": "code",
   "execution_count": 5,
   "metadata": {},
   "outputs": [
    {
     "data": {
      "text/plain": [
       "Client_ID             0\n",
       "Balance_Limit_V1      0\n",
       "Gender                0\n",
       "EDUCATION_STATUS      0\n",
       "MARITAL_STATUS        0\n",
       "AGE                   0\n",
       "PAY_JULY              0\n",
       "PAY_AUG               0\n",
       "PAY_SEP               0\n",
       "PAY_OCT               0\n",
       "PAY_NOV               0\n",
       "PAY_DEC               0\n",
       "DUE_AMT_JULY          0\n",
       "DUE_AMT_AUG           0\n",
       "DUE_AMT_SEP           0\n",
       "DUE_AMT_OCT           0\n",
       "DUE_AMT_NOV           0\n",
       "DUE_AMT_DEC           0\n",
       "PAID_AMT_JULY         0\n",
       "PAID_AMT_AUG          0\n",
       "PAID_AMT_SEP          0\n",
       "PAID_AMT_OCT          0\n",
       "PAID_AMT_NOV          0\n",
       "PAID_AMT_DEC          0\n",
       "NEXT_MONTH_DEFAULT    0\n",
       "dtype: int64"
      ]
     },
     "execution_count": 5,
     "metadata": {},
     "output_type": "execute_result"
    }
   ],
   "source": [
    "#Check null\n",
    "df.isnull().sum()"
   ]
  },
  {
   "cell_type": "code",
   "execution_count": 6,
   "metadata": {},
   "outputs": [
    {
     "data": {
      "text/plain": [
       "0"
      ]
     },
     "execution_count": 6,
     "metadata": {},
     "output_type": "execute_result"
    }
   ],
   "source": [
    "#check duplicates\n",
    "duplicated=df.duplicated().sum()\n",
    "duplicated"
   ]
  },
  {
   "cell_type": "code",
   "execution_count": 7,
   "metadata": {},
   "outputs": [],
   "source": [
    "#changing credit limit to numeric\n",
    "df['balance_unclean']=(df['Balance_Limit_V1'].str.strip().str.findall(r'[0-9]*')).apply(lambda x:''.join(x))\n",
    "df['balance_thousand']=df['Balance_Limit_V1'].str.strip().str.replace(r'[0-9.]*','')\n",
    "df['balance_limit_clean']=0\n",
    "df.loc[df['balance_thousand']=='K','balance_limit_clean']=df['balance_unclean'].astype(int)*1000\n",
    "df.loc[df['balance_thousand']=='M','balance_limit_clean']=df['balance_unclean'].astype(int)*100000\n",
    "\n",
    "df=df.drop(['balance_thousand','balance_unclean'],axis=1)"
   ]
  },
  {
   "cell_type": "code",
   "execution_count": 8,
   "metadata": {},
   "outputs": [
    {
     "name": "stdout",
     "output_type": "stream",
     "text": [
      "['31-45' 'Less than 30' '46-65' 'More than 65']\n"
     ]
    }
   ],
   "source": [
    "#Change Age to more understandable categories\n",
    "print(df.AGE.unique())\n",
    "df['Age_int']=df['AGE']\n",
    "df['Age_int']=df['Age_int'].str.replace('Less than 30','Young')\n",
    "df['Age_int']=df['Age_int'].str.replace('31-45','Young')\n",
    "df['Age_int']=df['Age_int'].str.replace('46-65','Old')\n",
    "df['Age_int']=df['Age_int'].str.replace('More than 65','Old')\n",
    "df['Age_int']=df['Age_int'].astype(str)"
   ]
  },
  {
   "cell_type": "code",
   "execution_count": 10,
   "metadata": {},
   "outputs": [
    {
     "data": {
      "text/plain": [
       "0   -1.000000\n",
       "1   -0.666667\n",
       "2    1.166667\n",
       "3    0.333333\n",
       "4    0.666667\n",
       "Name: Avg_Late, dtype: float64"
      ]
     },
     "execution_count": 10,
     "metadata": {},
     "output_type": "execute_result"
    }
   ],
   "source": [
    "#Compute Average late_pay\n",
    "df['Avg_Late']=df[['PAY_JULY','PAY_AUG','PAY_SEP','PAY_OCT','PAY_NOV','PAY_DEC']].mean(axis=1)\n",
    "df['Avg_Late'].head()"
   ]
  },
  {
   "cell_type": "code",
   "execution_count": 11,
   "metadata": {},
   "outputs": [],
   "source": [
    "#Difference between amount due and amount paid\n",
    "df['July_Excess']=df['PAID_AMT_JULY']-df['DUE_AMT_JULY']\n",
    "df['Aug_Excess']=df['PAID_AMT_AUG']-df['DUE_AMT_AUG']\n",
    "df['Sep_Excess']=df['PAID_AMT_SEP']-df['DUE_AMT_SEP']\n",
    "df['Oct_Excess']=df['PAID_AMT_OCT']-df['DUE_AMT_OCT']\n",
    "df['Nov_Excess']=df['PAID_AMT_NOV']-df['DUE_AMT_NOV']\n",
    "df['Dec_Excess']=df['PAID_AMT_DEC']-df['DUE_AMT_DEC']\n"
   ]
  },
  {
   "cell_type": "code",
   "execution_count": 12,
   "metadata": {},
   "outputs": [],
   "source": [
    "#Exctract cleaned columns\n",
    "df_clean=df[['Gender','EDUCATION_STATUS','MARITAL_STATUS','balance_limit_clean','Age_int'\n",
    "             ,'Avg_Late','PAID_AMT_JULY','PAID_AMT_AUG','PAID_AMT_SEP','PAID_AMT_OCT','PAID_AMT_NOV','PAID_AMT_DEC',\n",
    "            'DUE_AMT_JULY','DUE_AMT_AUG','DUE_AMT_SEP','DUE_AMT_OCT','DUE_AMT_NOV','DUE_AMT_DEC','July_Excess', 'Aug_Excess', 'Sep_Excess',\n",
    "           'Oct_Excess', 'Nov_Excess', 'Dec_Excess','NEXT_MONTH_DEFAULT']]"
   ]
  },
  {
   "cell_type": "markdown",
   "metadata": {},
   "source": [
    "### Remove Outliers"
   ]
  },
  {
   "cell_type": "code",
   "execution_count": 1,
   "metadata": {},
   "outputs": [
    {
     "ename": "NameError",
     "evalue": "name 'df_clean' is not defined",
     "output_type": "error",
     "traceback": [
      "\u001b[1;31m---------------------------------------------------------------------------\u001b[0m",
      "\u001b[1;31mNameError\u001b[0m                                 Traceback (most recent call last)",
      "\u001b[1;32m<ipython-input-1-95ac28972fcf>\u001b[0m in \u001b[0;36m<module>\u001b[1;34m\u001b[0m\n\u001b[1;32m----> 1\u001b[1;33m \u001b[0mdf_clean\u001b[0m\u001b[1;33m.\u001b[0m\u001b[0mboxplot\u001b[0m\u001b[1;33m(\u001b[0m\u001b[1;33m)\u001b[0m\u001b[1;33m\u001b[0m\u001b[1;33m\u001b[0m\u001b[0m\n\u001b[0m",
      "\u001b[1;31mNameError\u001b[0m: name 'df_clean' is not defined"
     ]
    }
   ],
   "source": [
    "df_clean.boxplot()"
   ]
  },
  {
   "cell_type": "code",
   "execution_count": 14,
   "metadata": {},
   "outputs": [],
   "source": [
    "from scipy import stats"
   ]
  },
  {
   "cell_type": "code",
   "execution_count": 15,
   "metadata": {},
   "outputs": [],
   "source": [
    "#get quantitative columns\n",
    "df_quant=df[['PAID_AMT_JULY','PAID_AMT_AUG','PAID_AMT_SEP','PAID_AMT_OCT','PAID_AMT_NOV','PAID_AMT_DEC',\n",
    "            'DUE_AMT_JULY','DUE_AMT_AUG','DUE_AMT_SEP','DUE_AMT_OCT','DUE_AMT_NOV','DUE_AMT_DEC','July_Excess', 'Aug_Excess', 'Sep_Excess',\n",
    "           'Oct_Excess', 'Nov_Excess', 'Dec_Excess']]"
   ]
  },
  {
   "cell_type": "code",
   "execution_count": 16,
   "metadata": {},
   "outputs": [
    {
     "name": "stdout",
     "output_type": "stream",
     "text": [
      "[[0.25077072 0.13920132 0.67206004 ... 1.42667055 0.56748375 4.48789748]\n",
      " [3.51939765 0.57242496 0.77319539 ... 0.84876039 0.01934741 0.09175771]\n",
      " [0.33810042 0.24549559 0.2974324  ... 0.59844881 0.58470231 0.5557611 ]\n",
      " ...\n",
      " [0.33810042 0.24549559 0.95249418 ... 0.33977806 0.2808636  0.28831883]\n",
      " [4.70372258 0.10607731 0.23050894 ... 0.19019281 1.25689343 0.21973176]\n",
      " [0.21613866 0.17188274 0.21619455 ... 0.0473081  0.0708083  0.32030166]]\n"
     ]
    }
   ],
   "source": [
    "#compute zscore\n",
    "z= np.abs(stats.zscore(df_quant))\n",
    "print(z)"
   ]
  },
  {
   "cell_type": "code",
   "execution_count": 17,
   "metadata": {},
   "outputs": [
    {
     "name": "stdout",
     "output_type": "stream",
     "text": [
      "4230\n"
     ]
    }
   ],
   "source": [
    "#Get rows numbers of rows with variable values with a z score of 4\n",
    "print(np.where(z > 4)[0].size)"
   ]
  },
  {
   "cell_type": "code",
   "execution_count": 18,
   "metadata": {},
   "outputs": [
    {
     "data": {
      "text/plain": [
       "(22222, 25)"
      ]
     },
     "execution_count": 18,
     "metadata": {},
     "output_type": "execute_result"
    }
   ],
   "source": [
    "#drop the outlier rows\n",
    "df_clean=df_clean.drop(np.where(z > 4)[0],axis=0)\n",
    "df_clean.shape\n"
   ]
  },
  {
   "cell_type": "markdown",
   "metadata": {},
   "source": [
    "# Data Preprocessing"
   ]
  },
  {
   "cell_type": "code",
   "execution_count": 19,
   "metadata": {},
   "outputs": [],
   "source": [
    "#get dummies\n",
    "df_dummy=pd.get_dummies(df_clean)"
   ]
  },
  {
   "cell_type": "code",
   "execution_count": 20,
   "metadata": {},
   "outputs": [
    {
     "data": {
      "text/html": [
       "<div>\n",
       "<style scoped>\n",
       "    .dataframe tbody tr th:only-of-type {\n",
       "        vertical-align: middle;\n",
       "    }\n",
       "\n",
       "    .dataframe tbody tr th {\n",
       "        vertical-align: top;\n",
       "    }\n",
       "\n",
       "    .dataframe thead th {\n",
       "        text-align: right;\n",
       "    }\n",
       "</style>\n",
       "<table border=\"1\" class=\"dataframe\">\n",
       "  <thead>\n",
       "    <tr style=\"text-align: right;\">\n",
       "      <th></th>\n",
       "      <th>balance_limit_clean</th>\n",
       "      <th>Avg_Late</th>\n",
       "      <th>PAID_AMT_JULY</th>\n",
       "      <th>PAID_AMT_AUG</th>\n",
       "      <th>PAID_AMT_SEP</th>\n",
       "      <th>PAID_AMT_OCT</th>\n",
       "      <th>PAID_AMT_NOV</th>\n",
       "      <th>PAID_AMT_DEC</th>\n",
       "      <th>DUE_AMT_JULY</th>\n",
       "      <th>DUE_AMT_AUG</th>\n",
       "      <th>...</th>\n",
       "      <th>NEXT_MONTH_DEFAULT</th>\n",
       "      <th>Gender_F</th>\n",
       "      <th>Gender_M</th>\n",
       "      <th>EDUCATION_STATUS_Graduate</th>\n",
       "      <th>EDUCATION_STATUS_High School</th>\n",
       "      <th>EDUCATION_STATUS_Other</th>\n",
       "      <th>MARITAL_STATUS_Other</th>\n",
       "      <th>MARITAL_STATUS_Single</th>\n",
       "      <th>Age_int_Old</th>\n",
       "      <th>Age_int_Young</th>\n",
       "    </tr>\n",
       "  </thead>\n",
       "  <tbody>\n",
       "    <tr>\n",
       "      <th>2</th>\n",
       "      <td>100000</td>\n",
       "      <td>1.166667</td>\n",
       "      <td>0</td>\n",
       "      <td>0</td>\n",
       "      <td>0</td>\n",
       "      <td>0</td>\n",
       "      <td>0</td>\n",
       "      <td>0</td>\n",
       "      <td>16681</td>\n",
       "      <td>16082</td>\n",
       "      <td>...</td>\n",
       "      <td>1</td>\n",
       "      <td>1</td>\n",
       "      <td>0</td>\n",
       "      <td>0</td>\n",
       "      <td>1</td>\n",
       "      <td>0</td>\n",
       "      <td>0</td>\n",
       "      <td>1</td>\n",
       "      <td>0</td>\n",
       "      <td>1</td>\n",
       "    </tr>\n",
       "    <tr>\n",
       "      <th>3</th>\n",
       "      <td>200000</td>\n",
       "      <td>0.333333</td>\n",
       "      <td>3855</td>\n",
       "      <td>3890</td>\n",
       "      <td>3696</td>\n",
       "      <td>4620</td>\n",
       "      <td>4049</td>\n",
       "      <td>3918</td>\n",
       "      <td>90457</td>\n",
       "      <td>92848</td>\n",
       "      <td>...</td>\n",
       "      <td>1</td>\n",
       "      <td>1</td>\n",
       "      <td>0</td>\n",
       "      <td>1</td>\n",
       "      <td>0</td>\n",
       "      <td>0</td>\n",
       "      <td>0</td>\n",
       "      <td>1</td>\n",
       "      <td>0</td>\n",
       "      <td>1</td>\n",
       "    </tr>\n",
       "    <tr>\n",
       "      <th>4</th>\n",
       "      <td>100000</td>\n",
       "      <td>0.666667</td>\n",
       "      <td>0</td>\n",
       "      <td>20790</td>\n",
       "      <td>16170</td>\n",
       "      <td>17325</td>\n",
       "      <td>16401</td>\n",
       "      <td>17325</td>\n",
       "      <td>429556</td>\n",
       "      <td>419466</td>\n",
       "      <td>...</td>\n",
       "      <td>0</td>\n",
       "      <td>1</td>\n",
       "      <td>0</td>\n",
       "      <td>1</td>\n",
       "      <td>0</td>\n",
       "      <td>0</td>\n",
       "      <td>1</td>\n",
       "      <td>0</td>\n",
       "      <td>0</td>\n",
       "      <td>1</td>\n",
       "    </tr>\n",
       "    <tr>\n",
       "      <th>5</th>\n",
       "      <td>400000</td>\n",
       "      <td>0.000000</td>\n",
       "      <td>16632</td>\n",
       "      <td>18480</td>\n",
       "      <td>12728</td>\n",
       "      <td>13398</td>\n",
       "      <td>13860</td>\n",
       "      <td>12705</td>\n",
       "      <td>361284</td>\n",
       "      <td>364802</td>\n",
       "      <td>...</td>\n",
       "      <td>0</td>\n",
       "      <td>1</td>\n",
       "      <td>0</td>\n",
       "      <td>1</td>\n",
       "      <td>0</td>\n",
       "      <td>0</td>\n",
       "      <td>0</td>\n",
       "      <td>1</td>\n",
       "      <td>0</td>\n",
       "      <td>1</td>\n",
       "    </tr>\n",
       "    <tr>\n",
       "      <th>6</th>\n",
       "      <td>100000</td>\n",
       "      <td>1.833333</td>\n",
       "      <td>0</td>\n",
       "      <td>3696</td>\n",
       "      <td>0</td>\n",
       "      <td>1386</td>\n",
       "      <td>1155</td>\n",
       "      <td>0</td>\n",
       "      <td>8991</td>\n",
       "      <td>8515</td>\n",
       "      <td>...</td>\n",
       "      <td>0</td>\n",
       "      <td>0</td>\n",
       "      <td>1</td>\n",
       "      <td>0</td>\n",
       "      <td>0</td>\n",
       "      <td>1</td>\n",
       "      <td>0</td>\n",
       "      <td>1</td>\n",
       "      <td>0</td>\n",
       "      <td>1</td>\n",
       "    </tr>\n",
       "  </tbody>\n",
       "</table>\n",
       "<p>5 rows × 30 columns</p>\n",
       "</div>"
      ],
      "text/plain": [
       "   balance_limit_clean  Avg_Late  PAID_AMT_JULY  PAID_AMT_AUG  PAID_AMT_SEP  \\\n",
       "2               100000  1.166667              0             0             0   \n",
       "3               200000  0.333333           3855          3890          3696   \n",
       "4               100000  0.666667              0         20790         16170   \n",
       "5               400000  0.000000          16632         18480         12728   \n",
       "6               100000  1.833333              0          3696             0   \n",
       "\n",
       "   PAID_AMT_OCT  PAID_AMT_NOV  PAID_AMT_DEC  DUE_AMT_JULY  DUE_AMT_AUG  ...  \\\n",
       "2             0             0             0         16681        16082  ...   \n",
       "3          4620          4049          3918         90457        92848  ...   \n",
       "4         17325         16401         17325        429556       419466  ...   \n",
       "5         13398         13860         12705        361284       364802  ...   \n",
       "6          1386          1155             0          8991         8515  ...   \n",
       "\n",
       "   NEXT_MONTH_DEFAULT  Gender_F  Gender_M  EDUCATION_STATUS_Graduate  \\\n",
       "2                   1         1         0                          0   \n",
       "3                   1         1         0                          1   \n",
       "4                   0         1         0                          1   \n",
       "5                   0         1         0                          1   \n",
       "6                   0         0         1                          0   \n",
       "\n",
       "   EDUCATION_STATUS_High School  EDUCATION_STATUS_Other  MARITAL_STATUS_Other  \\\n",
       "2                             1                       0                     0   \n",
       "3                             0                       0                     0   \n",
       "4                             0                       0                     1   \n",
       "5                             0                       0                     0   \n",
       "6                             0                       1                     0   \n",
       "\n",
       "   MARITAL_STATUS_Single  Age_int_Old  Age_int_Young  \n",
       "2                      1            0              1  \n",
       "3                      1            0              1  \n",
       "4                      0            0              1  \n",
       "5                      1            0              1  \n",
       "6                      1            0              1  \n",
       "\n",
       "[5 rows x 30 columns]"
      ]
     },
     "execution_count": 20,
     "metadata": {},
     "output_type": "execute_result"
    }
   ],
   "source": [
    "df_dummy.head()"
   ]
  },
  {
   "cell_type": "code",
   "execution_count": 21,
   "metadata": {},
   "outputs": [],
   "source": [
    "#Seperate dependant and independant variables\n",
    "y=df_dummy['NEXT_MONTH_DEFAULT']\n",
    "X=df_dummy.drop('NEXT_MONTH_DEFAULT',axis=1)\n",
    "variable_y='NEXT_MONTH_DEFAULT'\n",
    "variable_x=X.columns"
   ]
  },
  {
   "cell_type": "code",
   "execution_count": 22,
   "metadata": {},
   "outputs": [],
   "source": [
    "#train test split\n",
    "from sklearn.model_selection import train_test_split\n",
    "X_train, X_test, y_train, y_test = train_test_split(X, y, test_size=0.3, random_state=2)"
   ]
  },
  {
   "cell_type": "markdown",
   "metadata": {},
   "source": [
    "**Feature Selection**"
   ]
  },
  {
   "cell_type": "code",
   "execution_count": 23,
   "metadata": {},
   "outputs": [],
   "source": [
    "#import algorithm\n",
    "from sklearn.feature_selection import SelectKBest"
   ]
  },
  {
   "cell_type": "code",
   "execution_count": 24,
   "metadata": {},
   "outputs": [],
   "source": [
    "#initiate and fit algorithm\n",
    "fs = SelectKBest( k='all')\n",
    "fs.fit(X_train, y_train)\n",
    "X_train_fs = fs.transform(X_train)"
   ]
  },
  {
   "cell_type": "code",
   "execution_count": 25,
   "metadata": {},
   "outputs": [
    {
     "name": "stdout",
     "output_type": "stream",
     "text": [
      "balance_limit_clean: 55.854701\n",
      "Avg_Late: 1218.623987\n",
      "PAID_AMT_JULY: 199.287926\n",
      "PAID_AMT_AUG: 177.990952\n",
      "PAID_AMT_SEP: 148.780051\n",
      "PAID_AMT_OCT: 99.030443\n",
      "PAID_AMT_NOV: 131.631674\n",
      "PAID_AMT_DEC: 111.324754\n",
      "DUE_AMT_JULY: 18.064255\n",
      "DUE_AMT_AUG: 10.471246\n",
      "DUE_AMT_SEP: 6.444061\n",
      "DUE_AMT_OCT: 2.578261\n",
      "DUE_AMT_NOV: 1.226647\n",
      "DUE_AMT_DEC: 0.095120\n",
      "July_Excess: 6.986413\n",
      "Aug_Excess: 1.881200\n",
      "Sep_Excess: 1.067693\n",
      "Oct_Excess: 0.135481\n",
      "Nov_Excess: 0.117831\n",
      "Dec_Excess: 1.605702\n",
      "Gender_F: 29.206199\n",
      "Gender_M: 29.206199\n",
      "EDUCATION_STATUS_Graduate: 21.183933\n",
      "EDUCATION_STATUS_High School: 7.576904\n",
      "EDUCATION_STATUS_Other: 5.375106\n",
      "MARITAL_STATUS_Other: 9.576390\n",
      "MARITAL_STATUS_Single: 9.576390\n",
      "Age_int_Old: 11.015162\n",
      "Age_int_Young: 11.015162\n"
     ]
    },
    {
     "data": {
      "image/png": "[encoded data removed]",
      "text/plain": [
       "<Figure size 432x288 with 1 Axes>"
      ]
     },
     "metadata": {
      "needs_background": "light"
     },
     "output_type": "display_data"
    }
   ],
   "source": [
    "# match variables and scores\n",
    "variable_score={}\n",
    "for i in range(len(fs.scores_)):\n",
    "    variable_score[variable_x[i]]=fs.scores_[i]\n",
    "    print('%s: %f' % (variable_x[i], fs.scores_[i]))"
   ]
  },
  {
   "cell_type": "code",
   "execution_count": 26,
   "metadata": {},
   "outputs": [
    {
     "data": {
      "text/plain": [
       "['DUE_AMT_SEP',\n",
       " 'DUE_AMT_OCT',\n",
       " 'DUE_AMT_NOV',\n",
       " 'DUE_AMT_DEC',\n",
       " 'July_Excess',\n",
       " 'Aug_Excess',\n",
       " 'Sep_Excess',\n",
       " 'Oct_Excess',\n",
       " 'Nov_Excess',\n",
       " 'Dec_Excess',\n",
       " 'EDUCATION_STATUS_High School',\n",
       " 'EDUCATION_STATUS_Other']"
      ]
     },
     "execution_count": 26,
     "metadata": {},
     "output_type": "execute_result"
    }
   ],
   "source": [
    "#drop columns with low score\n",
    "columns_drop=[]\n",
    "for k,v in variable_score.items():\n",
    "    if v<9:\n",
    "        columns_drop.append(k)\n",
    "columns_drop"
   ]
  },
  {
   "cell_type": "code",
   "execution_count": 27,
   "metadata": {},
   "outputs": [],
   "source": [
    "#get important column in their categorical form for catboost\n",
    "df_catboost=df[['Gender','EDUCATION_STATUS','MARITAL_STATUS','balance_limit_clean','Age_int'\n",
    "             ,'Avg_Late','PAID_AMT_JULY','PAID_AMT_AUG','PAID_AMT_SEP','PAID_AMT_OCT','PAID_AMT_NOV','PAID_AMT_DEC',\n",
    "            'NEXT_MONTH_DEFAULT']]"
   ]
  },
  {
   "cell_type": "code",
   "execution_count": 28,
   "metadata": {},
   "outputs": [
    {
     "data": {
      "text/plain": [
       "Gender                  object\n",
       "EDUCATION_STATUS        object\n",
       "MARITAL_STATUS          object\n",
       "balance_limit_clean      int64\n",
       "Age_int                 object\n",
       "Avg_Late               float64\n",
       "PAID_AMT_JULY            int64\n",
       "PAID_AMT_AUG             int64\n",
       "PAID_AMT_SEP             int64\n",
       "PAID_AMT_OCT             int64\n",
       "PAID_AMT_NOV             int64\n",
       "PAID_AMT_DEC             int64\n",
       "NEXT_MONTH_DEFAULT       int64\n",
       "dtype: object"
      ]
     },
     "execution_count": 28,
     "metadata": {},
     "output_type": "execute_result"
    }
   ],
   "source": [
    "df_catboost.dtypes"
   ]
  },
  {
   "cell_type": "code",
   "execution_count": 29,
   "metadata": {},
   "outputs": [
    {
     "data": {
      "text/plain": [
       "array([0, 1, 2, 3, 4])"
      ]
     },
     "execution_count": 29,
     "metadata": {},
     "output_type": "execute_result"
    }
   ],
   "source": [
    "#get indices of categorical columns\n",
    "categorical_features_indices =np.array([ 0,  1,  2,  3,  4])\n",
    "categorical_features_indices"
   ]
  },
  {
   "cell_type": "code",
   "execution_count": 30,
   "metadata": {},
   "outputs": [],
   "source": [
    "#seperate dependant and independant columns of catboost df\n",
    "y=df_catboost['NEXT_MONTH_DEFAULT']\n",
    "X=df_catboost.drop('NEXT_MONTH_DEFAULT',axis=1)\n",
    "variable_y='NEXT_MONTH_DEFAULT'\n",
    "variable_x=X.columns\n"
   ]
  },
  {
   "cell_type": "code",
   "execution_count": null,
   "metadata": {},
   "outputs": [],
   "source": [
    "#train test split\n",
    "X_train, X_test, y_train, y_test = train_test_split(X, y, test_size=0.3, random_state=2)"
   ]
  },
  {
   "cell_type": "code",
   "execution_count": 31,
   "metadata": {},
   "outputs": [
    {
     "name": "stdout",
     "output_type": "stream",
     "text": [
      "0:\tlearn: 0.6549579\ttotal: 898ms\tremaining: 1m 28s\n",
      "1:\tlearn: 0.6281240\ttotal: 1.38s\tremaining: 1m 7s\n",
      "2:\tlearn: 0.6053206\ttotal: 1.89s\tremaining: 1m 1s\n",
      "3:\tlearn: 0.5830213\ttotal: 2.41s\tremaining: 57.8s\n",
      "4:\tlearn: 0.5637574\ttotal: 2.87s\tremaining: 54.6s\n",
      "5:\tlearn: 0.5498465\ttotal: 3.42s\tremaining: 53.6s\n",
      "6:\tlearn: 0.5346326\ttotal: 3.9s\tremaining: 51.8s\n",
      "7:\tlearn: 0.5207613\ttotal: 4.41s\tremaining: 50.8s\n",
      "8:\tlearn: 0.5100689\ttotal: 4.92s\tremaining: 49.7s\n",
      "9:\tlearn: 0.5006428\ttotal: 5.44s\tremaining: 49s\n",
      "10:\tlearn: 0.4911184\ttotal: 5.45s\tremaining: 44.1s\n",
      "11:\tlearn: 0.4838299\ttotal: 5.96s\tremaining: 43.7s\n",
      "12:\tlearn: 0.4767173\ttotal: 6.47s\tremaining: 43.3s\n",
      "13:\tlearn: 0.4706228\ttotal: 6.94s\tremaining: 42.6s\n",
      "14:\tlearn: 0.4653626\ttotal: 7.42s\tremaining: 42s\n",
      "15:\tlearn: 0.4605162\ttotal: 7.93s\tremaining: 41.6s\n",
      "16:\tlearn: 0.4555707\ttotal: 8.4s\tremaining: 41s\n",
      "17:\tlearn: 0.4505180\ttotal: 8.91s\tremaining: 40.6s\n",
      "18:\tlearn: 0.4460493\ttotal: 9.41s\tremaining: 40.1s\n",
      "19:\tlearn: 0.4421488\ttotal: 9.88s\tremaining: 39.5s\n",
      "20:\tlearn: 0.4385302\ttotal: 10.4s\tremaining: 39.1s\n",
      "21:\tlearn: 0.4346997\ttotal: 10.9s\tremaining: 38.7s\n",
      "22:\tlearn: 0.4317167\ttotal: 11.4s\tremaining: 38.2s\n",
      "23:\tlearn: 0.4282521\ttotal: 11.9s\tremaining: 37.6s\n",
      "24:\tlearn: 0.4251557\ttotal: 12.4s\tremaining: 37.1s\n",
      "25:\tlearn: 0.4223538\ttotal: 12.9s\tremaining: 36.6s\n",
      "26:\tlearn: 0.4195049\ttotal: 13.4s\tremaining: 36.1s\n",
      "27:\tlearn: 0.4167676\ttotal: 13.8s\tremaining: 35.6s\n",
      "28:\tlearn: 0.4144837\ttotal: 14.3s\tremaining: 35.1s\n",
      "29:\tlearn: 0.4125280\ttotal: 14.3s\tremaining: 33.5s\n",
      "30:\tlearn: 0.4104474\ttotal: 14.9s\tremaining: 33.1s\n",
      "31:\tlearn: 0.4082173\ttotal: 15.4s\tremaining: 32.7s\n",
      "32:\tlearn: 0.4059335\ttotal: 15.9s\tremaining: 32.3s\n",
      "33:\tlearn: 0.4034905\ttotal: 16.4s\tremaining: 31.9s\n",
      "34:\tlearn: 0.4012552\ttotal: 16.9s\tremaining: 31.4s\n",
      "35:\tlearn: 0.3994831\ttotal: 17.4s\tremaining: 31s\n",
      "36:\tlearn: 0.3979206\ttotal: 17.9s\tremaining: 30.5s\n",
      "37:\tlearn: 0.3957915\ttotal: 18.4s\tremaining: 30s\n",
      "38:\tlearn: 0.3936004\ttotal: 18.9s\tremaining: 29.6s\n",
      "39:\tlearn: 0.3918824\ttotal: 19.4s\tremaining: 29.1s\n",
      "40:\tlearn: 0.3902666\ttotal: 19.9s\tremaining: 28.7s\n",
      "41:\tlearn: 0.3883490\ttotal: 20.4s\tremaining: 28.2s\n",
      "42:\tlearn: 0.3863521\ttotal: 20.9s\tremaining: 27.7s\n",
      "43:\tlearn: 0.3845332\ttotal: 21.4s\tremaining: 27.2s\n",
      "44:\tlearn: 0.3826965\ttotal: 21.9s\tremaining: 26.7s\n",
      "45:\tlearn: 0.3821778\ttotal: 21.9s\tremaining: 25.7s\n",
      "46:\tlearn: 0.3803316\ttotal: 22.4s\tremaining: 25.3s\n",
      "47:\tlearn: 0.3786717\ttotal: 22.9s\tremaining: 24.8s\n",
      "48:\tlearn: 0.3771372\ttotal: 23.4s\tremaining: 24.3s\n",
      "49:\tlearn: 0.3754730\ttotal: 23.8s\tremaining: 23.8s\n",
      "50:\tlearn: 0.3736287\ttotal: 24.4s\tremaining: 23.4s\n",
      "51:\tlearn: 0.3720580\ttotal: 24.9s\tremaining: 23s\n",
      "52:\tlearn: 0.3710111\ttotal: 25.4s\tremaining: 22.5s\n",
      "53:\tlearn: 0.3695757\ttotal: 25.9s\tremaining: 22s\n",
      "54:\tlearn: 0.3678348\ttotal: 26.3s\tremaining: 21.5s\n",
      "55:\tlearn: 0.3664552\ttotal: 26.8s\tremaining: 21.1s\n",
      "56:\tlearn: 0.3647963\ttotal: 27.3s\tremaining: 20.6s\n",
      "57:\tlearn: 0.3633065\ttotal: 27.8s\tremaining: 20.2s\n",
      "58:\tlearn: 0.3617491\ttotal: 28.3s\tremaining: 19.7s\n",
      "59:\tlearn: 0.3608355\ttotal: 28.8s\tremaining: 19.2s\n",
      "60:\tlearn: 0.3597294\ttotal: 29.2s\tremaining: 18.7s\n",
      "61:\tlearn: 0.3582743\ttotal: 29.7s\tremaining: 18.2s\n",
      "62:\tlearn: 0.3570663\ttotal: 30.2s\tremaining: 17.7s\n",
      "63:\tlearn: 0.3556311\ttotal: 30.6s\tremaining: 17.2s\n",
      "64:\tlearn: 0.3543784\ttotal: 31.2s\tremaining: 16.8s\n",
      "65:\tlearn: 0.3530146\ttotal: 31.7s\tremaining: 16.3s\n",
      "66:\tlearn: 0.3515939\ttotal: 32.2s\tremaining: 15.8s\n",
      "67:\tlearn: 0.3504280\ttotal: 32.7s\tremaining: 15.4s\n",
      "68:\tlearn: 0.3491516\ttotal: 33.2s\tremaining: 14.9s\n",
      "69:\tlearn: 0.3478956\ttotal: 33.7s\tremaining: 14.4s\n",
      "70:\tlearn: 0.3462402\ttotal: 34.2s\tremaining: 14s\n",
      "71:\tlearn: 0.3449894\ttotal: 34.7s\tremaining: 13.5s\n",
      "72:\tlearn: 0.3434972\ttotal: 35.1s\tremaining: 13s\n",
      "73:\tlearn: 0.3432432\ttotal: 35.1s\tremaining: 12.3s\n",
      "74:\tlearn: 0.3419827\ttotal: 35.6s\tremaining: 11.9s\n",
      "75:\tlearn: 0.3408616\ttotal: 36.1s\tremaining: 11.4s\n",
      "76:\tlearn: 0.3406921\ttotal: 36.1s\tremaining: 10.8s\n",
      "77:\tlearn: 0.3395869\ttotal: 36.6s\tremaining: 10.3s\n",
      "78:\tlearn: 0.3382243\ttotal: 37s\tremaining: 9.84s\n",
      "79:\tlearn: 0.3371480\ttotal: 37.5s\tremaining: 9.38s\n",
      "80:\tlearn: 0.3369584\ttotal: 37.5s\tremaining: 8.8s\n",
      "81:\tlearn: 0.3360298\ttotal: 38s\tremaining: 8.34s\n",
      "82:\tlearn: 0.3345383\ttotal: 38.5s\tremaining: 7.89s\n",
      "83:\tlearn: 0.3330641\ttotal: 39s\tremaining: 7.43s\n",
      "84:\tlearn: 0.3315245\ttotal: 39.5s\tremaining: 6.97s\n",
      "85:\tlearn: 0.3301307\ttotal: 40s\tremaining: 6.51s\n",
      "86:\tlearn: 0.3293372\ttotal: 40.5s\tremaining: 6.06s\n",
      "87:\tlearn: 0.3282382\ttotal: 41s\tremaining: 5.59s\n",
      "88:\tlearn: 0.3281127\ttotal: 41s\tremaining: 5.07s\n",
      "89:\tlearn: 0.3270159\ttotal: 41.6s\tremaining: 4.62s\n",
      "90:\tlearn: 0.3257180\ttotal: 42.2s\tremaining: 4.17s\n",
      "91:\tlearn: 0.3244272\ttotal: 42.7s\tremaining: 3.71s\n",
      "92:\tlearn: 0.3231141\ttotal: 43.3s\tremaining: 3.26s\n",
      "93:\tlearn: 0.3216383\ttotal: 43.8s\tremaining: 2.8s\n",
      "94:\tlearn: 0.3207746\ttotal: 44.3s\tremaining: 2.33s\n",
      "95:\tlearn: 0.3206927\ttotal: 44.3s\tremaining: 1.85s\n",
      "96:\tlearn: 0.3193400\ttotal: 44.9s\tremaining: 1.39s\n",
      "97:\tlearn: 0.3180746\ttotal: 45.3s\tremaining: 925ms\n",
      "98:\tlearn: 0.3167969\ttotal: 45.9s\tremaining: 463ms\n",
      "99:\tlearn: 0.3154493\ttotal: 46.3s\tremaining: 0us\n"
     ]
    },
    {
     "data": {
      "text/plain": [
       "<catboost.core.CatBoostClassifier at 0x7fcd69ff9e48>"
      ]
     },
     "execution_count": 31,
     "metadata": {},
     "output_type": "execute_result"
    }
   ],
   "source": [
    "#initiate and fit catboost algorithm\n",
    "from catboost import CatBoostClassifier\n",
    "model=CatBoostClassifier(iterations=100, depth=15, learning_rate=0.1, loss_function='Logloss')\n",
    "model.fit(X_train, y_train,cat_features=categorical_features_indices)"
   ]
  },
  {
   "cell_type": "code",
   "execution_count": 32,
   "metadata": {},
   "outputs": [
    {
     "name": "stdout",
     "output_type": "stream",
     "text": [
      "              precision    recall  f1-score   support\n",
      "\n",
      "           0       0.82      0.94      0.88      5597\n",
      "           1       0.60      0.30      0.40      1603\n",
      "\n",
      "    accuracy                           0.80      7200\n",
      "   macro avg       0.71      0.62      0.64      7200\n",
      "weighted avg       0.78      0.80      0.77      7200\n",
      "\n"
     ]
    }
   ],
   "source": [
    "#score algorithm\n",
    "y_pred = model.predict(X_test)\n",
    "from sklearn import metrics\n",
    "print(metrics.classification_report(y_test, y_pred))"
   ]
  }
 ],
 "metadata": {
  "kernelspec": {
   "display_name": "Python 3",
   "language": "python",
   "name": "python3"
  },
  "language_info": {
   "codemirror_mode": {
    "name": "ipython",
    "version": 3
   },
   "file_extension": ".py",
   "mimetype": "text/x-python",
   "name": "python",
   "nbconvert_exporter": "python",
   "pygments_lexer": "ipython3",
   "version": "3.7.3"
  }
 },
 "nbformat": 4,
 "nbformat_minor": 1
}

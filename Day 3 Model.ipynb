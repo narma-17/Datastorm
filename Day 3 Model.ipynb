{
 "cells": [
  {
   "cell_type": "code",
   "execution_count": 20,
   "metadata": {
    "_cell_guid": "b1076dfc-b9ad-4769-8c92-a6c4dae69d19",
    "_uuid": "8f2839f25d086af736a60e9eeb907d3b93b6e0e5"
   },
   "outputs": [],
   "source": [
    "# This Python 3 environment comes with many helpful analytics libraries installed\n",
    "# It is defined by the kaggle/python docker image: https://github.com/kaggle/docker-python\n",
    "# For example, here's several helpful packages to load in \n",
    "\n",
    "import numpy as np # linear algebra\n",
    "import pandas as pd # data processing, CSV file I/O (e.g. pd.read_csv)\n",
    "\n",
    "# Input data files are available in the \"../input/\" directory.\n",
    "# For example, running this (by clicking run or pressing Shift+Enter) will list all files under the input directory\n",
    "\n",
    "import os\n",
    "for dirname, _, filenames in os.walk('/kaggle/input'):\n",
    "    for filename in filenames:\n",
    "        print(os.path.join(dirname, filename))\n",
    "\n",
    "# Any results you write to the current directory are saved as output."
   ]
  },
  {
   "cell_type": "code",
   "execution_count": 21,
   "metadata": {},
   "outputs": [],
   "source": [
    "import matplotlib.pyplot as plt\n",
    "import seaborn as sns"
   ]
  },
  {
   "cell_type": "markdown",
   "metadata": {},
   "source": [
    "# Data Loading and Cleaning"
   ]
  },
  {
   "cell_type": "code",
   "execution_count": 22,
   "metadata": {},
   "outputs": [],
   "source": [
    "#Loading the data\n",
    "df=pd.read_csv(r'C:\\Users\\Rajakanthan\\Documents\\Datastorm\\credit_card_default_train.csv')"
   ]
  },
  {
   "cell_type": "code",
   "execution_count": 23,
   "metadata": {},
   "outputs": [
    {
     "data": {
      "text/plain": [
       "Index(['Client_ID', 'Balance_Limit_V1', 'Gender', 'EDUCATION_STATUS',\n",
       "       'MARITAL_STATUS', 'AGE', 'PAY_JULY', 'PAY_AUG', 'PAY_SEP', 'PAY_OCT',\n",
       "       'PAY_NOV', 'PAY_DEC', 'DUE_AMT_JULY', 'DUE_AMT_AUG', 'DUE_AMT_SEP',\n",
       "       'DUE_AMT_OCT', 'DUE_AMT_NOV', 'DUE_AMT_DEC', 'PAID_AMT_JULY',\n",
       "       'PAID_AMT_AUG', 'PAID_AMT_SEP', 'PAID_AMT_OCT', 'PAID_AMT_NOV',\n",
       "       'PAID_AMT_DEC', 'Average Paid', 'Average Due', 'NEXT_MONTH_DEFAULT',\n",
       "       'Total Paid', 'Total Due', 'Unnamed: 29'],\n",
       "      dtype='object')"
      ]
     },
     "execution_count": 23,
     "metadata": {},
     "output_type": "execute_result"
    }
   ],
   "source": [
    "#Check the columns\n",
    "df.columns"
   ]
  },
  {
   "cell_type": "code",
   "execution_count": 24,
   "metadata": {},
   "outputs": [
    {
     "data": {
      "text/html": [
       "<div>\n",
       "<style scoped>\n",
       "    .dataframe tbody tr th:only-of-type {\n",
       "        vertical-align: middle;\n",
       "    }\n",
       "\n",
       "    .dataframe tbody tr th {\n",
       "        vertical-align: top;\n",
       "    }\n",
       "\n",
       "    .dataframe thead th {\n",
       "        text-align: right;\n",
       "    }\n",
       "</style>\n",
       "<table border=\"1\" class=\"dataframe\">\n",
       "  <thead>\n",
       "    <tr style=\"text-align: right;\">\n",
       "      <th></th>\n",
       "      <th>Client_ID</th>\n",
       "      <th>Balance_Limit_V1</th>\n",
       "      <th>Gender</th>\n",
       "      <th>EDUCATION_STATUS</th>\n",
       "      <th>MARITAL_STATUS</th>\n",
       "      <th>AGE</th>\n",
       "      <th>PAY_JULY</th>\n",
       "      <th>PAY_AUG</th>\n",
       "      <th>PAY_SEP</th>\n",
       "      <th>PAY_OCT</th>\n",
       "      <th>...</th>\n",
       "      <th>PAID_AMT_SEP</th>\n",
       "      <th>PAID_AMT_OCT</th>\n",
       "      <th>PAID_AMT_NOV</th>\n",
       "      <th>PAID_AMT_DEC</th>\n",
       "      <th>Average Paid</th>\n",
       "      <th>Average Due</th>\n",
       "      <th>NEXT_MONTH_DEFAULT</th>\n",
       "      <th>Total Paid</th>\n",
       "      <th>Total Due</th>\n",
       "      <th>Unnamed: 29</th>\n",
       "    </tr>\n",
       "  </thead>\n",
       "  <tbody>\n",
       "    <tr>\n",
       "      <th>0</th>\n",
       "      <td>A2</td>\n",
       "      <td>1M</td>\n",
       "      <td>M</td>\n",
       "      <td>Graduate</td>\n",
       "      <td>Other</td>\n",
       "      <td>31-45</td>\n",
       "      <td>-1</td>\n",
       "      <td>-1</td>\n",
       "      <td>-1</td>\n",
       "      <td>-1</td>\n",
       "      <td>...</td>\n",
       "      <td>39418</td>\n",
       "      <td>162772</td>\n",
       "      <td>0</td>\n",
       "      <td>538165</td>\n",
       "      <td>149271.8</td>\n",
       "      <td>33474.833333</td>\n",
       "      <td>0</td>\n",
       "      <td>749796</td>\n",
       "      <td>200849</td>\n",
       "      <td>-548947.0</td>\n",
       "    </tr>\n",
       "    <tr>\n",
       "      <th>1</th>\n",
       "      <td>A3</td>\n",
       "      <td>1M</td>\n",
       "      <td>F</td>\n",
       "      <td>High School</td>\n",
       "      <td>Other</td>\n",
       "      <td>Less than 30</td>\n",
       "      <td>0</td>\n",
       "      <td>-1</td>\n",
       "      <td>-1</td>\n",
       "      <td>-1</td>\n",
       "      <td>...</td>\n",
       "      <td>43530</td>\n",
       "      <td>80811</td>\n",
       "      <td>942</td>\n",
       "      <td>33666</td>\n",
       "      <td>41029.8</td>\n",
       "      <td>130174.666667</td>\n",
       "      <td>0</td>\n",
       "      <td>356967</td>\n",
       "      <td>781048</td>\n",
       "      <td>424081.0</td>\n",
       "    </tr>\n",
       "    <tr>\n",
       "      <th>2</th>\n",
       "      <td>A4</td>\n",
       "      <td>100K</td>\n",
       "      <td>F</td>\n",
       "      <td>High School</td>\n",
       "      <td>Single</td>\n",
       "      <td>31-45</td>\n",
       "      <td>4</td>\n",
       "      <td>3</td>\n",
       "      <td>2</td>\n",
       "      <td>2</td>\n",
       "      <td>...</td>\n",
       "      <td>0</td>\n",
       "      <td>0</td>\n",
       "      <td>0</td>\n",
       "      <td>0</td>\n",
       "      <td>0.0</td>\n",
       "      <td>8040.000000</td>\n",
       "      <td>1</td>\n",
       "      <td>0</td>\n",
       "      <td>48240</td>\n",
       "      <td>48240.0</td>\n",
       "    </tr>\n",
       "    <tr>\n",
       "      <th>3</th>\n",
       "      <td>A5</td>\n",
       "      <td>200K</td>\n",
       "      <td>F</td>\n",
       "      <td>Graduate</td>\n",
       "      <td>Single</td>\n",
       "      <td>31-45</td>\n",
       "      <td>2</td>\n",
       "      <td>0</td>\n",
       "      <td>0</td>\n",
       "      <td>0</td>\n",
       "      <td>...</td>\n",
       "      <td>3696</td>\n",
       "      <td>4620</td>\n",
       "      <td>4049</td>\n",
       "      <td>3918</td>\n",
       "      <td>4034.6</td>\n",
       "      <td>96483.333333</td>\n",
       "      <td>1</td>\n",
       "      <td>24028</td>\n",
       "      <td>578900</td>\n",
       "      <td>554872.0</td>\n",
       "    </tr>\n",
       "    <tr>\n",
       "      <th>4</th>\n",
       "      <td>A6</td>\n",
       "      <td>1M</td>\n",
       "      <td>F</td>\n",
       "      <td>Graduate</td>\n",
       "      <td>Other</td>\n",
       "      <td>31-45</td>\n",
       "      <td>2</td>\n",
       "      <td>2</td>\n",
       "      <td>0</td>\n",
       "      <td>0</td>\n",
       "      <td>...</td>\n",
       "      <td>16170</td>\n",
       "      <td>17325</td>\n",
       "      <td>16401</td>\n",
       "      <td>17325</td>\n",
       "      <td>17602.2</td>\n",
       "      <td>435555.166667</td>\n",
       "      <td>0</td>\n",
       "      <td>88011</td>\n",
       "      <td>2613331</td>\n",
       "      <td>2525320.0</td>\n",
       "    </tr>\n",
       "  </tbody>\n",
       "</table>\n",
       "<p>5 rows × 30 columns</p>\n",
       "</div>"
      ],
      "text/plain": [
       "  Client_ID Balance_Limit_V1 Gender EDUCATION_STATUS MARITAL_STATUS  \\\n",
       "0        A2               1M      M         Graduate          Other   \n",
       "1        A3               1M      F      High School          Other   \n",
       "2        A4             100K      F      High School         Single   \n",
       "3        A5             200K      F         Graduate         Single   \n",
       "4        A6               1M      F         Graduate          Other   \n",
       "\n",
       "            AGE  PAY_JULY  PAY_AUG  PAY_SEP  PAY_OCT  ...  PAID_AMT_SEP  \\\n",
       "0         31-45        -1       -1       -1       -1  ...         39418   \n",
       "1  Less than 30         0       -1       -1       -1  ...         43530   \n",
       "2         31-45         4        3        2        2  ...             0   \n",
       "3         31-45         2        0        0        0  ...          3696   \n",
       "4         31-45         2        2        0        0  ...         16170   \n",
       "\n",
       "   PAID_AMT_OCT  PAID_AMT_NOV  PAID_AMT_DEC  Average Paid    Average Due  \\\n",
       "0        162772             0        538165      149271.8   33474.833333   \n",
       "1         80811           942         33666       41029.8  130174.666667   \n",
       "2             0             0             0           0.0    8040.000000   \n",
       "3          4620          4049          3918        4034.6   96483.333333   \n",
       "4         17325         16401         17325       17602.2  435555.166667   \n",
       "\n",
       "   NEXT_MONTH_DEFAULT  Total Paid  Total Due  Unnamed: 29  \n",
       "0                   0      749796     200849    -548947.0  \n",
       "1                   0      356967     781048     424081.0  \n",
       "2                   1           0      48240      48240.0  \n",
       "3                   1       24028     578900     554872.0  \n",
       "4                   0       88011    2613331    2525320.0  \n",
       "\n",
       "[5 rows x 30 columns]"
      ]
     },
     "execution_count": 24,
     "metadata": {},
     "output_type": "execute_result"
    }
   ],
   "source": [
    "df.head()"
   ]
  },
  {
   "cell_type": "code",
   "execution_count": 25,
   "metadata": {},
   "outputs": [
    {
     "data": {
      "text/plain": [
       "Client_ID                 0\n",
       "Balance_Limit_V1          0\n",
       "Gender                    0\n",
       "EDUCATION_STATUS          0\n",
       "MARITAL_STATUS            0\n",
       "AGE                       0\n",
       "PAY_JULY                  0\n",
       "PAY_AUG                   0\n",
       "PAY_SEP                   0\n",
       "PAY_OCT                   0\n",
       "PAY_NOV                   0\n",
       "PAY_DEC                   0\n",
       "DUE_AMT_JULY              0\n",
       "DUE_AMT_AUG               0\n",
       "DUE_AMT_SEP               0\n",
       "DUE_AMT_OCT               0\n",
       "DUE_AMT_NOV               0\n",
       "DUE_AMT_DEC               0\n",
       "PAID_AMT_JULY             0\n",
       "PAID_AMT_AUG              0\n",
       "PAID_AMT_SEP              0\n",
       "PAID_AMT_OCT              0\n",
       "PAID_AMT_NOV              0\n",
       "PAID_AMT_DEC              0\n",
       "Average Paid              0\n",
       "Average Due               0\n",
       "NEXT_MONTH_DEFAULT        0\n",
       "Total Paid                0\n",
       "Total Due                 0\n",
       "Unnamed: 29           23909\n",
       "dtype: int64"
      ]
     },
     "execution_count": 25,
     "metadata": {},
     "output_type": "execute_result"
    }
   ],
   "source": [
    "#Check for null values\n",
    "df.isnull().sum()"
   ]
  },
  {
   "cell_type": "code",
   "execution_count": 26,
   "metadata": {},
   "outputs": [
    {
     "data": {
      "text/plain": [
       "0"
      ]
     },
     "execution_count": 26,
     "metadata": {},
     "output_type": "execute_result"
    }
   ],
   "source": [
    "#check for duplicates\n",
    "duplicated=df.duplicated().sum()\n",
    "duplicated"
   ]
  },
  {
   "cell_type": "code",
   "execution_count": 27,
   "metadata": {},
   "outputs": [],
   "source": [
    "#changing credit limit to numeric\n",
    "df['balance_unclean']=(df['Balance_Limit_V1'].str.strip().str.findall(r'[0-9]*')).apply(lambda x:''.join(x))\n",
    "df['balance_thousand']=df['Balance_Limit_V1'].str.strip().str.replace(r'[0-9.]*','')\n",
    "df['balance_limit_clean']=0\n",
    "df.loc[df['balance_thousand']=='K','balance_limit_clean']=df['balance_unclean'].astype(int)*1000\n",
    "df.loc[df['balance_thousand']=='M','balance_limit_clean']=df['balance_unclean'].astype(int)*100000\n",
    "df['balance_limit_clean']=df['balance_limit_clean'].astype(str)\n",
    "df=df.drop(['balance_thousand','balance_unclean'],axis=1)\n"
   ]
  },
  {
   "cell_type": "code",
   "execution_count": 28,
   "metadata": {},
   "outputs": [
    {
     "name": "stdout",
     "output_type": "stream",
     "text": [
      "['31-45' 'Less than 30' '46-65' 'More than 65']\n"
     ]
    }
   ],
   "source": [
    "#Change Age to more understandable categories\n",
    "print(df.AGE.unique())\n",
    "df['Age_cat']=df['AGE']\n",
    "df['Age_cat']=df['Age_cat'].str.replace('Less than 30','Young')\n",
    "df['Age_cat']=df['Age_cat'].str.replace('31-45','Lower Middle Age')\n",
    "df['Age_cat']=df['Age_cat'].str.replace('46-65','Upper Middle Age')\n",
    "df['Age_cat']=df['Age_cat'].str.replace('More than 65','Old')\n",
    "df['Age_cat']=df['Age_cat'].astype(str)"
   ]
  },
  {
   "cell_type": "code",
   "execution_count": 29,
   "metadata": {},
   "outputs": [],
   "source": [
    "# function to categorize payment category\n",
    "def payment_category(x):\n",
    "    if x<10000:\n",
    "        return 'less than 10000'\n",
    "    else :\n",
    "        return 'more than 10000'\n",
    "    "
   ]
  },
  {
   "cell_type": "code",
   "execution_count": 30,
   "metadata": {},
   "outputs": [],
   "source": [
    "#Categorize payment category\n",
    "df['Average_paid']=df[['PAID_AMT_JULY','PAID_AMT_AUG','PAID_AMT_SEP','PAID_AMT_OCT','PAID_AMT_NOV','PAID_AMT_DEC']].mean(axis=1)\n",
    "df['Average_paid']=df['Average_paid'].apply(lambda x:payment_category(x))"
   ]
  },
  {
   "cell_type": "code",
   "execution_count": 31,
   "metadata": {},
   "outputs": [],
   "source": [
    "# function to categorize netpayable as a % of credit limit\n",
    "def pct_to_cat(x):\n",
    "    if x<1:\n",
    "        return 'within limit'\n",
    "    else:\n",
    "        return 'exceeded limit'\n"
   ]
  },
  {
   "cell_type": "code",
   "execution_count": 32,
   "metadata": {},
   "outputs": [],
   "source": [
    "#computation of netpayable every three months as a % of credit limit\n",
    "df['pct_3_months']=((df[['DUE_AMT_JULY','DUE_AMT_AUG','DUE_AMT_OCT']].mean(axis=1)-df[['PAID_AMT_JULY','PAID_AMT_AUG','PAID_AMT_SEP']].mean(axis=1))/df['balance_limit_clean'].astype(int)).apply(lambda x:pct_to_cat(x))\n",
    "df['pct_3_6_months']=((df[['DUE_AMT_OCT','DUE_AMT_NOV','DUE_AMT_DEC']].mean(axis=1)-df[['PAID_AMT_OCT','PAID_AMT_NOV','PAID_AMT_DEC']].mean(axis=1))/df['balance_limit_clean'].astype(int)).apply(lambda x:pct_to_cat(x))                                            \n",
    "                                                                                   "
   ]
  },
  {
   "cell_type": "code",
   "execution_count": 33,
   "metadata": {},
   "outputs": [],
   "source": [
    "#Function to compute average spending as a % of credit limit\n",
    "def due_pct_cat(x):\n",
    "    x=float(x)\n",
    "    if x<0.01:\n",
    "        return 'less than 1%'\n",
    "    if x>0.9:\n",
    "        return 'more than 90%'\n",
    "    else:\n",
    "        return 'between 1% and 90%'"
   ]
  },
  {
   "cell_type": "code",
   "execution_count": 34,
   "metadata": {},
   "outputs": [
    {
     "data": {
      "text/plain": [
       "between 1% and 90%    18450\n",
       "less than 1%           3018\n",
       "more than 90%          2532\n",
       "Name: Average_due_pct_cat, dtype: int64"
      ]
     },
     "execution_count": 34,
     "metadata": {},
     "output_type": "execute_result"
    }
   ],
   "source": [
    "#Computing Average Spending as a % of credit limit\n",
    "df['Average_due']=df[['DUE_AMT_JULY','DUE_AMT_AUG','DUE_AMT_SEP','DUE_AMT_OCT','DUE_AMT_NOV','DUE_AMT_DEC']].mean(axis=1)\n",
    "df['Average_due_pct_cat']=(df['Average_due']/df['balance_limit_clean'].astype(int)).apply(lambda x:due_pct_cat(x))\n",
    "df['Average_due_pct_cat'].value_counts()"
   ]
  },
  {
   "cell_type": "code",
   "execution_count": 35,
   "metadata": {},
   "outputs": [],
   "source": [
    "#Extracting cleaned columns\n",
    "df_clean=df[['Gender','MARITAL_STATUS','Age_cat','EDUCATION_STATUS','balance_limit_clean','PAY_JULY','PAY_AUG','PAY_SEP','PAY_OCT','PAY_NOV','PAY_DEC',\n",
    "             'PAID_AMT_JULY', 'PAID_AMT_AUG','PAID_AMT_SEP','PAID_AMT_OCT','PAID_AMT_NOV','PAID_AMT_DEC',\n",
    "             'DUE_AMT_JULY','DUE_AMT_AUG','DUE_AMT_SEP','DUE_AMT_OCT','DUE_AMT_NOV','DUE_AMT_DEC','Average_paid','Average_due_pct_cat',\n",
    "             'NEXT_MONTH_DEFAULT','pct_3_months','pct_3_6_months']]\n"
   ]
  },
  {
   "cell_type": "markdown",
   "metadata": {},
   "source": [
    "# Visualization"
   ]
  },
  {
   "cell_type": "code",
   "execution_count": 22,
   "metadata": {},
   "outputs": [
    {
     "data": {
      "text/plain": [
       "<matplotlib.axes._subplots.AxesSubplot at 0x7f6b61e53a20>"
      ]
     },
     "execution_count": 22,
     "metadata": {},
     "output_type": "execute_result"
    },
    {
     "data": {
      "image/png": "[encoded data removed]",
      "text/plain": [
       "<Figure size 432x288 with 1 Axes>"
      ]
     },
     "metadata": {
      "needs_background": "light"
     },
     "output_type": "display_data"
    }
   ],
   "source": [
    "#Defalt rate by gender \n",
    "df_gender=df_clean[['Gender','NEXT_MONTH_DEFAULT']].groupby('Gender').mean()\n",
    "sns.barplot(x=df_gender.index,y='NEXT_MONTH_DEFAULT',data=df_gender)"
   ]
  },
  {
   "cell_type": "code",
   "execution_count": 23,
   "metadata": {},
   "outputs": [
    {
     "data": {
      "text/plain": [
       "<matplotlib.axes._subplots.AxesSubplot at 0x7f6b583219b0>"
      ]
     },
     "execution_count": 23,
     "metadata": {},
     "output_type": "execute_result"
    },
    {
     "data": {
      "image/png": "[encoded data removed]",
      "text/plain": [
       "<Figure size 432x288 with 1 Axes>"
      ]
     },
     "metadata": {
      "needs_background": "light"
     },
     "output_type": "display_data"
    }
   ],
   "source": [
    "#Default rate by educational status\n",
    "df_ed_status=df_clean[['EDUCATION_STATUS','NEXT_MONTH_DEFAULT']].groupby('EDUCATION_STATUS').mean()\n",
    "sns.barplot(x=df_ed_status.index,y='NEXT_MONTH_DEFAULT',data=df_ed_status)"
   ]
  },
  {
   "cell_type": "code",
   "execution_count": 24,
   "metadata": {},
   "outputs": [
    {
     "data": {
      "text/plain": [
       "<matplotlib.axes._subplots.AxesSubplot at 0x7f6b582e87b8>"
      ]
     },
     "execution_count": 24,
     "metadata": {},
     "output_type": "execute_result"
    },
    {
     "data": {
      "image/png": "[encoded data removed]",
      "text/plain": [
       "<Figure size 432x288 with 1 Axes>"
      ]
     },
     "metadata": {
      "needs_background": "light"
     },
     "output_type": "display_data"
    }
   ],
   "source": [
    "#Default rate by maritial status\n",
    "df_marriage=df_clean[['MARITAL_STATUS','NEXT_MONTH_DEFAULT']].groupby('MARITAL_STATUS').mean()\n",
    "sns.barplot(x=df_marriage.index,y='NEXT_MONTH_DEFAULT',data=df_marriage)"
   ]
  },
  {
   "cell_type": "code",
   "execution_count": 25,
   "metadata": {},
   "outputs": [
    {
     "data": {
      "text/plain": [
       "<matplotlib.axes._subplots.AxesSubplot at 0x7f6b582c98d0>"
      ]
     },
     "execution_count": 25,
     "metadata": {},
     "output_type": "execute_result"
    },
    {
     "data": {
      "image/png": "[encoded data removed]",
      "text/plain": [
       "<Figure size 432x288 with 1 Axes>"
      ]
     },
     "metadata": {
      "needs_background": "light"
     },
     "output_type": "display_data"
    }
   ],
   "source": [
    "#default rate by age\n",
    "df_age=df_clean[['Age_cat','NEXT_MONTH_DEFAULT']].groupby('Age_cat').mean()\n",
    "sns.barplot(x=df_age.index,y='NEXT_MONTH_DEFAULT',data=df_age)"
   ]
  },
  {
   "cell_type": "code",
   "execution_count": 26,
   "metadata": {},
   "outputs": [
    {
     "data": {
      "text/plain": [
       "<matplotlib.axes._subplots.AxesSubplot at 0x7f6b58227358>"
      ]
     },
     "execution_count": 26,
     "metadata": {},
     "output_type": "execute_result"
    },
    {
     "data": {
      "image/png": "[encoded data removed]",
      "text/plain": [
       "<Figure size 432x288 with 1 Axes>"
      ]
     },
     "metadata": {
      "needs_background": "light"
     },
     "output_type": "display_data"
    }
   ],
   "source": [
    "#default rate by credit limit\n",
    "df_balance=df_clean[['balance_limit_clean','NEXT_MONTH_DEFAULT']].groupby('balance_limit_clean').mean()\n",
    "sns.barplot(x=df_balance.index,y='NEXT_MONTH_DEFAULT',data=df_balance)"
   ]
  },
  {
   "cell_type": "code",
   "execution_count": 1,
   "metadata": {},
   "outputs": [
    {
     "ename": "NameError",
     "evalue": "name 'df' is not defined",
     "output_type": "error",
     "traceback": [
      "\u001b[1;31m---------------------------------------------------------------------------\u001b[0m",
      "\u001b[1;31mNameError\u001b[0m                                 Traceback (most recent call last)",
      "\u001b[1;32m<ipython-input-1-5cd6bf07a9da>\u001b[0m in \u001b[0;36m<module>\u001b[1;34m\u001b[0m\n\u001b[1;32m----> 1\u001b[1;33m \u001b[0mdf_due_pct\u001b[0m\u001b[1;33m=\u001b[0m\u001b[0mdf\u001b[0m\u001b[1;33m[\u001b[0m\u001b[1;33m[\u001b[0m\u001b[1;34m'Average_due_pct_cat'\u001b[0m\u001b[1;33m,\u001b[0m\u001b[1;34m'NEXT_MONTH_DEFAULT'\u001b[0m\u001b[1;33m]\u001b[0m\u001b[1;33m]\u001b[0m\u001b[1;33m.\u001b[0m\u001b[0mgroupby\u001b[0m\u001b[1;33m(\u001b[0m\u001b[1;34m'Average_due_pct_cat'\u001b[0m\u001b[1;33m)\u001b[0m\u001b[1;33m.\u001b[0m\u001b[0mmean\u001b[0m\u001b[1;33m(\u001b[0m\u001b[1;33m)\u001b[0m\u001b[1;33m\u001b[0m\u001b[1;33m\u001b[0m\u001b[0m\n\u001b[0m\u001b[0;32m      2\u001b[0m \u001b[0msns\u001b[0m\u001b[1;33m.\u001b[0m\u001b[0mbarplot\u001b[0m\u001b[1;33m(\u001b[0m\u001b[0mx\u001b[0m\u001b[1;33m=\u001b[0m\u001b[0mdf_due_pct\u001b[0m\u001b[1;33m.\u001b[0m\u001b[0mindex\u001b[0m\u001b[1;33m,\u001b[0m\u001b[0my\u001b[0m\u001b[1;33m=\u001b[0m\u001b[1;34m'NEXT_MONTH_DEFAULT'\u001b[0m\u001b[1;33m,\u001b[0m\u001b[0mdata\u001b[0m\u001b[1;33m=\u001b[0m\u001b[0mdf_due_pct\u001b[0m\u001b[1;33m)\u001b[0m\u001b[1;33m\u001b[0m\u001b[1;33m\u001b[0m\u001b[0m\n",
      "\u001b[1;31mNameError\u001b[0m: name 'df' is not defined"
     ]
    }
   ],
   "source": [
    "#default rate by credit card spending\n",
    "\"\"\"\n",
    "Do customers who spend very high levels or very low lvels of their credit limit have a different chance of defaulting?\n",
    "\"\"\"\n",
    "df_due_pct=df[['Average_due_pct_cat','NEXT_MONTH_DEFAULT']].groupby('Average_due_pct_cat').mean()\n",
    "sns.barplot(x=df_due_pct.index,y='NEXT_MONTH_DEFAULT',data=df_due_pct)"
   ]
  },
  {
   "cell_type": "code",
   "execution_count": null,
   "metadata": {},
   "outputs": [],
   "source": [
    "#Does average balance outstanding differ differ between customers who will default and those who wont?\n",
    "df['Average_diff']=df[['DUE_AMT_JULY','DUE_AMT_AUG','DUE_AMT_SEP','DUE_AMT_OCT','DUE_AMT_NOV','DUE_AMT_DEC']].mean(axis=1)-df[['PAID_AMT_JULY','PAID_AMT_AUG','PAID_AMT_SEP','PAID_AMT_OCT','PAID_AMT_NOV','PAID_AMT_DEC']].mean(axis=1)\n",
    "fig,ax=plt.subplots(2,1,figsize=(8,6))\n",
    "sns.distplot(df.loc[df['NEXT_MONTH_DEFAULT']==1]['Average_diff'],ax=ax[0])\n",
    "sns.distplot(df.loc[df['NEXT_MONTH_DEFAULT']==1]['Average_diff'],ax=ax[1])\n"
   ]
  },
  {
   "cell_type": "markdown",
   "metadata": {},
   "source": [
    "# Data Preprocessing"
   ]
  },
  {
   "cell_type": "code",
   "execution_count": 27,
   "metadata": {},
   "outputs": [],
   "source": [
    "#Get dummies\n",
    "df_dummy=pd.get_dummies(df_clean)"
   ]
  },
  {
   "cell_type": "code",
   "execution_count": 28,
   "metadata": {},
   "outputs": [
    {
     "data": {
      "text/html": [
       "<div>\n",
       "<style scoped>\n",
       "    .dataframe tbody tr th:only-of-type {\n",
       "        vertical-align: middle;\n",
       "    }\n",
       "\n",
       "    .dataframe tbody tr th {\n",
       "        vertical-align: top;\n",
       "    }\n",
       "\n",
       "    .dataframe thead th {\n",
       "        text-align: right;\n",
       "    }\n",
       "</style>\n",
       "<table border=\"1\" class=\"dataframe\">\n",
       "  <thead>\n",
       "    <tr style=\"text-align: right;\">\n",
       "      <th></th>\n",
       "      <th>PAY_JULY</th>\n",
       "      <th>PAY_AUG</th>\n",
       "      <th>PAY_SEP</th>\n",
       "      <th>PAY_OCT</th>\n",
       "      <th>PAY_NOV</th>\n",
       "      <th>PAY_DEC</th>\n",
       "      <th>PAID_AMT_JULY</th>\n",
       "      <th>PAID_AMT_AUG</th>\n",
       "      <th>PAID_AMT_SEP</th>\n",
       "      <th>PAID_AMT_OCT</th>\n",
       "      <th>...</th>\n",
       "      <th>balance_limit_clean_500000</th>\n",
       "      <th>Average_paid_less than 10000</th>\n",
       "      <th>Average_paid_more than 10000</th>\n",
       "      <th>Average_due_pct_cat_between 1% and 90%</th>\n",
       "      <th>Average_due_pct_cat_less than 1%</th>\n",
       "      <th>Average_due_pct_cat_more than 90%</th>\n",
       "      <th>pct_3_months_exceeded limit</th>\n",
       "      <th>pct_3_months_within limit</th>\n",
       "      <th>pct_3_6_months_exceeded limit</th>\n",
       "      <th>pct_3_6_months_within limit</th>\n",
       "    </tr>\n",
       "  </thead>\n",
       "  <tbody>\n",
       "    <tr>\n",
       "      <th>0</th>\n",
       "      <td>-1</td>\n",
       "      <td>-1</td>\n",
       "      <td>-1</td>\n",
       "      <td>-1</td>\n",
       "      <td>-1</td>\n",
       "      <td>-1</td>\n",
       "      <td>3437</td>\n",
       "      <td>6004</td>\n",
       "      <td>39418</td>\n",
       "      <td>162772</td>\n",
       "      <td>...</td>\n",
       "      <td>0</td>\n",
       "      <td>0</td>\n",
       "      <td>1</td>\n",
       "      <td>1</td>\n",
       "      <td>0</td>\n",
       "      <td>0</td>\n",
       "      <td>0</td>\n",
       "      <td>1</td>\n",
       "      <td>0</td>\n",
       "      <td>1</td>\n",
       "    </tr>\n",
       "    <tr>\n",
       "      <th>1</th>\n",
       "      <td>0</td>\n",
       "      <td>-1</td>\n",
       "      <td>-1</td>\n",
       "      <td>-1</td>\n",
       "      <td>-1</td>\n",
       "      <td>0</td>\n",
       "      <td>151818</td>\n",
       "      <td>46200</td>\n",
       "      <td>43530</td>\n",
       "      <td>80811</td>\n",
       "      <td>...</td>\n",
       "      <td>0</td>\n",
       "      <td>0</td>\n",
       "      <td>1</td>\n",
       "      <td>0</td>\n",
       "      <td>0</td>\n",
       "      <td>1</td>\n",
       "      <td>1</td>\n",
       "      <td>0</td>\n",
       "      <td>0</td>\n",
       "      <td>1</td>\n",
       "    </tr>\n",
       "    <tr>\n",
       "      <th>2</th>\n",
       "      <td>4</td>\n",
       "      <td>3</td>\n",
       "      <td>2</td>\n",
       "      <td>2</td>\n",
       "      <td>-2</td>\n",
       "      <td>-2</td>\n",
       "      <td>0</td>\n",
       "      <td>0</td>\n",
       "      <td>0</td>\n",
       "      <td>0</td>\n",
       "      <td>...</td>\n",
       "      <td>0</td>\n",
       "      <td>1</td>\n",
       "      <td>0</td>\n",
       "      <td>1</td>\n",
       "      <td>0</td>\n",
       "      <td>0</td>\n",
       "      <td>0</td>\n",
       "      <td>1</td>\n",
       "      <td>0</td>\n",
       "      <td>1</td>\n",
       "    </tr>\n",
       "    <tr>\n",
       "      <th>3</th>\n",
       "      <td>2</td>\n",
       "      <td>0</td>\n",
       "      <td>0</td>\n",
       "      <td>0</td>\n",
       "      <td>0</td>\n",
       "      <td>0</td>\n",
       "      <td>3855</td>\n",
       "      <td>3890</td>\n",
       "      <td>3696</td>\n",
       "      <td>4620</td>\n",
       "      <td>...</td>\n",
       "      <td>0</td>\n",
       "      <td>1</td>\n",
       "      <td>0</td>\n",
       "      <td>1</td>\n",
       "      <td>0</td>\n",
       "      <td>0</td>\n",
       "      <td>0</td>\n",
       "      <td>1</td>\n",
       "      <td>0</td>\n",
       "      <td>1</td>\n",
       "    </tr>\n",
       "    <tr>\n",
       "      <th>4</th>\n",
       "      <td>2</td>\n",
       "      <td>2</td>\n",
       "      <td>0</td>\n",
       "      <td>0</td>\n",
       "      <td>0</td>\n",
       "      <td>0</td>\n",
       "      <td>0</td>\n",
       "      <td>20790</td>\n",
       "      <td>16170</td>\n",
       "      <td>17325</td>\n",
       "      <td>...</td>\n",
       "      <td>0</td>\n",
       "      <td>0</td>\n",
       "      <td>1</td>\n",
       "      <td>0</td>\n",
       "      <td>0</td>\n",
       "      <td>1</td>\n",
       "      <td>1</td>\n",
       "      <td>0</td>\n",
       "      <td>1</td>\n",
       "      <td>0</td>\n",
       "    </tr>\n",
       "  </tbody>\n",
       "</table>\n",
       "<p>5 rows × 46 columns</p>\n",
       "</div>"
      ],
      "text/plain": [
       "   PAY_JULY  PAY_AUG  PAY_SEP  PAY_OCT  PAY_NOV  PAY_DEC  PAID_AMT_JULY  \\\n",
       "0        -1       -1       -1       -1       -1       -1           3437   \n",
       "1         0       -1       -1       -1       -1        0         151818   \n",
       "2         4        3        2        2       -2       -2              0   \n",
       "3         2        0        0        0        0        0           3855   \n",
       "4         2        2        0        0        0        0              0   \n",
       "\n",
       "   PAID_AMT_AUG  PAID_AMT_SEP  PAID_AMT_OCT  ...  balance_limit_clean_500000  \\\n",
       "0          6004         39418        162772  ...                           0   \n",
       "1         46200         43530         80811  ...                           0   \n",
       "2             0             0             0  ...                           0   \n",
       "3          3890          3696          4620  ...                           0   \n",
       "4         20790         16170         17325  ...                           0   \n",
       "\n",
       "   Average_paid_less than 10000  Average_paid_more than 10000  \\\n",
       "0                             0                             1   \n",
       "1                             0                             1   \n",
       "2                             1                             0   \n",
       "3                             1                             0   \n",
       "4                             0                             1   \n",
       "\n",
       "   Average_due_pct_cat_between 1% and 90%  Average_due_pct_cat_less than 1%  \\\n",
       "0                                       1                                 0   \n",
       "1                                       0                                 0   \n",
       "2                                       1                                 0   \n",
       "3                                       1                                 0   \n",
       "4                                       0                                 0   \n",
       "\n",
       "   Average_due_pct_cat_more than 90%  pct_3_months_exceeded limit  \\\n",
       "0                                  0                            0   \n",
       "1                                  1                            1   \n",
       "2                                  0                            0   \n",
       "3                                  0                            0   \n",
       "4                                  1                            1   \n",
       "\n",
       "   pct_3_months_within limit  pct_3_6_months_exceeded limit  \\\n",
       "0                          1                              0   \n",
       "1                          0                              0   \n",
       "2                          1                              0   \n",
       "3                          1                              0   \n",
       "4                          0                              1   \n",
       "\n",
       "   pct_3_6_months_within limit  \n",
       "0                            1  \n",
       "1                            1  \n",
       "2                            1  \n",
       "3                            1  \n",
       "4                            0  \n",
       "\n",
       "[5 rows x 46 columns]"
      ]
     },
     "execution_count": 28,
     "metadata": {},
     "output_type": "execute_result"
    }
   ],
   "source": [
    "df_dummy.head()"
   ]
  },
  {
   "cell_type": "code",
   "execution_count": 29,
   "metadata": {},
   "outputs": [
    {
     "data": {
      "text/plain": [
       "Index(['PAY_JULY', 'PAY_AUG', 'PAY_SEP', 'PAY_OCT', 'PAY_NOV', 'PAY_DEC',\n",
       "       'PAID_AMT_JULY', 'PAID_AMT_AUG', 'PAID_AMT_SEP', 'PAID_AMT_OCT',\n",
       "       'PAID_AMT_NOV', 'PAID_AMT_DEC', 'DUE_AMT_JULY', 'DUE_AMT_AUG',\n",
       "       'DUE_AMT_SEP', 'DUE_AMT_OCT', 'DUE_AMT_NOV', 'DUE_AMT_DEC',\n",
       "       'NEXT_MONTH_DEFAULT', 'Gender_F', 'Gender_M', 'MARITAL_STATUS_Other',\n",
       "       'MARITAL_STATUS_Single', 'Age_cat_Lower Middle Age', 'Age_cat_Old',\n",
       "       'Age_cat_Upper Middle Age', 'Age_cat_Young',\n",
       "       'EDUCATION_STATUS_Graduate', 'EDUCATION_STATUS_High School',\n",
       "       'EDUCATION_STATUS_Other', 'balance_limit_clean_100000',\n",
       "       'balance_limit_clean_1500000', 'balance_limit_clean_200000',\n",
       "       'balance_limit_clean_2500000', 'balance_limit_clean_300000',\n",
       "       'balance_limit_clean_400000', 'balance_limit_clean_500000',\n",
       "       'Average_paid_less than 10000', 'Average_paid_more than 10000',\n",
       "       'Average_due_pct_cat_between 1% and 90%',\n",
       "       'Average_due_pct_cat_less than 1%', 'Average_due_pct_cat_more than 90%',\n",
       "       'pct_3_months_exceeded limit', 'pct_3_months_within limit',\n",
       "       'pct_3_6_months_exceeded limit', 'pct_3_6_months_within limit'],\n",
       "      dtype='object')"
      ]
     },
     "execution_count": 29,
     "metadata": {},
     "output_type": "execute_result"
    }
   ],
   "source": [
    "df_dummy.columns"
   ]
  },
  {
   "cell_type": "code",
   "execution_count": 30,
   "metadata": {},
   "outputs": [],
   "source": [
    "#Seperate dependant and independant variables\n",
    "y=df_dummy['NEXT_MONTH_DEFAULT']\n",
    "X=df_dummy.drop('NEXT_MONTH_DEFAULT',axis=1)\n",
    "variable_y='NEXT_MONTH_DEFAULT'\n",
    "variable_x=X.columns"
   ]
  },
  {
   "cell_type": "code",
   "execution_count": 31,
   "metadata": {},
   "outputs": [],
   "source": [
    "#train test split\n",
    "from sklearn.model_selection import train_test_split\n",
    "X_train, X_test, y_train, y_test = train_test_split(X, y, test_size=0.075, random_state=0)"
   ]
  },
  {
   "cell_type": "markdown",
   "metadata": {},
   "source": [
    "# **Feature Selection**"
   ]
  },
  {
   "cell_type": "code",
   "execution_count": 32,
   "metadata": {},
   "outputs": [],
   "source": [
    "#import algorithm\n",
    "from sklearn.feature_selection import SelectKBest"
   ]
  },
  {
   "cell_type": "code",
   "execution_count": 33,
   "metadata": {},
   "outputs": [],
   "source": [
    "#initiate and fit algorithm\n",
    "fs = SelectKBest( k='all')\n",
    "fs.fit(X_train, y_train)\n",
    "X_train_fs = fs.transform(X_train)\n"
   ]
  },
  {
   "cell_type": "code",
   "execution_count": 34,
   "metadata": {},
   "outputs": [
    {
     "data": {
      "text/plain": [
       "{'PAY_JULY': 2642.790262503302,\n",
       " 'PAY_AUG': 1622.1284775520653,\n",
       " 'PAY_SEP': 1249.1761809546672,\n",
       " 'PAY_OCT': 1050.5349162172563,\n",
       " 'PAY_NOV': 940.340121702299,\n",
       " 'PAY_DEC': 796.0613544411107,\n",
       " 'PAID_AMT_JULY': 114.78141392951214,\n",
       " 'PAID_AMT_AUG': 74.28993198144681,\n",
       " 'PAID_AMT_SEP': 75.24751050650634,\n",
       " 'PAID_AMT_OCT': 70.31460631317492,\n",
       " 'PAID_AMT_NOV': 68.50064131201925,\n",
       " 'PAID_AMT_DEC': 57.22945366343039,\n",
       " 'DUE_AMT_JULY': 7.231599992297456,\n",
       " 'DUE_AMT_AUG': 4.152330952057573,\n",
       " 'DUE_AMT_SEP': 4.186835126406865,\n",
       " 'DUE_AMT_OCT': 1.8003999156576695,\n",
       " 'DUE_AMT_NOV': 1.0850213392049597,\n",
       " 'DUE_AMT_DEC': 0.7141724959278681,\n",
       " 'Gender_F': 35.631866505161746,\n",
       " 'Gender_M': 35.631866505165554,\n",
       " 'MARITAL_STATUS_Other': 14.317630811213723,\n",
       " 'MARITAL_STATUS_Single': 14.317630811210051,\n",
       " 'Age_cat_Lower Middle Age': 29.00338157536927,\n",
       " 'Age_cat_Old': 0.989073963362908,\n",
       " 'Age_cat_Upper Middle Age': 16.17085647506598,\n",
       " 'Age_cat_Young': 5.698229346952632,\n",
       " 'EDUCATION_STATUS_Graduate': 52.11487967563104,\n",
       " 'EDUCATION_STATUS_High School': 21.171284092632277,\n",
       " 'EDUCATION_STATUS_Other': 12.201955401209688,\n",
       " 'balance_limit_clean_100000': 0.6522390829786563,\n",
       " 'balance_limit_clean_1500000': 65.70204294753748,\n",
       " 'balance_limit_clean_200000': 63.559529618728,\n",
       " 'balance_limit_clean_2500000': 3.790772662434035,\n",
       " 'balance_limit_clean_300000': 14.99481315972685,\n",
       " 'balance_limit_clean_400000': 13.152788442082272,\n",
       " 'balance_limit_clean_500000': 32.26683905160618,\n",
       " 'Average_paid_less than 10000': 433.0363318497269,\n",
       " 'Average_paid_more than 10000': 433.0363318497248,\n",
       " 'Average_due_pct_cat_between 1% and 90%': 0.6095426033398744,\n",
       " 'Average_due_pct_cat_less than 1%': 43.35246516910381,\n",
       " 'Average_due_pct_cat_more than 90%': 66.99666451743433,\n",
       " 'pct_3_months_exceeded limit': 47.57093944160527,\n",
       " 'pct_3_months_within limit': 47.570939441583825,\n",
       " 'pct_3_6_months_exceeded limit': 48.275790174272835,\n",
       " 'pct_3_6_months_within limit': 48.27579017423413}"
      ]
     },
     "execution_count": 34,
     "metadata": {},
     "output_type": "execute_result"
    }
   ],
   "source": [
    "#match importance score to variable names\n",
    "variable_score={}\n",
    "for i in range( len(fs.scores_)):\n",
    "    variable_score[variable_x[i]]=fs.scores_[i]\n",
    "variable_score"
   ]
  },
  {
   "cell_type": "code",
   "execution_count": 35,
   "metadata": {},
   "outputs": [
    {
     "data": {
      "text/plain": [
       "['DUE_AMT_JULY',\n",
       " 'DUE_AMT_AUG',\n",
       " 'DUE_AMT_SEP',\n",
       " 'DUE_AMT_OCT',\n",
       " 'DUE_AMT_NOV',\n",
       " 'DUE_AMT_DEC',\n",
       " 'Age_cat_Old',\n",
       " 'Age_cat_Young',\n",
       " 'balance_limit_clean_100000',\n",
       " 'balance_limit_clean_2500000',\n",
       " 'Average_due_pct_cat_between 1% and 90%']"
      ]
     },
     "execution_count": 35,
     "metadata": {},
     "output_type": "execute_result"
    }
   ],
   "source": [
    "#drop columns with low importance\n",
    "column_drop=[]\n",
    "for k,v in variable_score.items():\n",
    "    if v<15:\n",
    "        X_train=X_train.drop(k,axis=1)\n",
    "        X_test=X_test.drop(k,axis=1)\n",
    "        column_drop.append(k)\n",
    "column_drop  "
   ]
  },
  {
   "cell_type": "code",
   "execution_count": 36,
   "metadata": {},
   "outputs": [
    {
     "data": {
      "text/plain": [
       "(22200, 34)"
      ]
     },
     "execution_count": 36,
     "metadata": {},
     "output_type": "execute_result"
    }
   ],
   "source": [
    "X_train.shape"
   ]
  },
  {
   "cell_type": "code",
   "execution_count": 37,
   "metadata": {},
   "outputs": [],
   "source": [
    "#get new column name list\n",
    "variable_x=X_train.columns"
   ]
  },
  {
   "cell_type": "markdown",
   "metadata": {},
   "source": [
    "## Balancing the training set "
   ]
  },
  {
   "cell_type": "code",
   "execution_count": null,
   "metadata": {},
   "outputs": [],
   "source": [
    "#get the value counts\n",
    "X_train['NEXT_MONTH_DEFAULT'].value_counts()"
   ]
  },
  {
   "cell_type": "markdown",
   "metadata": {},
   "source": [
    "Since the training set is imbalanced we will be using the models given by imblearn library to balance the dataset"
   ]
  },
  {
   "cell_type": "code",
   "execution_count": 38,
   "metadata": {},
   "outputs": [
    {
     "name": "stderr",
     "output_type": "stream",
     "text": [
      "Using TensorFlow backend.\n"
     ]
    }
   ],
   "source": [
    "#import library\n",
    "from imblearn.combine import SMOTETomek"
   ]
  },
  {
   "cell_type": "code",
   "execution_count": 39,
   "metadata": {},
   "outputs": [
    {
     "data": {
      "text/plain": [
       "(33092, 34)"
      ]
     },
     "execution_count": 39,
     "metadata": {},
     "output_type": "execute_result"
    }
   ],
   "source": [
    "#initiate and fit algorithm\n",
    "smote_tomek = SMOTETomek(random_state=0)\n",
    "X_train, y_train = smote_tomek.fit_resample(X_train, y_train)\n",
    "X_train.shape"
   ]
  },
  {
   "cell_type": "markdown",
   "metadata": {},
   "source": [
    "# Fit the XGBoost algorithm"
   ]
  },
  {
   "cell_type": "code",
   "execution_count": 40,
   "metadata": {},
   "outputs": [],
   "source": [
    "#import library\n",
    "import xgboost as xgb"
   ]
  },
  {
   "cell_type": "code",
   "execution_count": 41,
   "metadata": {},
   "outputs": [
    {
     "data": {
      "text/plain": [
       "XGBClassifier(base_score=0.5, booster='gbtree', colsample_bylevel=1,\n",
       "              colsample_bynode=1, colsample_bytree=1, gamma=0,\n",
       "              learning_rate=0.1, max_delta_step=0, max_depth=3,\n",
       "              min_child_weight=1, missing=None, n_estimators=100, n_jobs=1,\n",
       "              nthread=4, objective='binary:logistic', random_state=0,\n",
       "              reg_alpha=0, reg_lambda=1, scale_pos_weight=0.975, seed=42,\n",
       "              silent=None, subsample=1, verbosity=0)"
      ]
     },
     "execution_count": 41,
     "metadata": {},
     "output_type": "execute_result"
    }
   ],
   "source": [
    "#fit model\n",
    "\"\"\"\n",
    "scale_pos+weight has been set to slightly lower than 1 to adjust for the slight overfitted bias towards 1 caused \n",
    "by the addition of the variable 'Average_due_pct_cat'\n",
    "\"\"\"\n",
    "model = xgb.XGBClassifier(objective= 'binary:logistic',nthread=4,seed=42,verbosity=0,scale_pos_weight=0.97)\n",
    "model.fit(X_train, y_train)"
   ]
  },
  {
   "cell_type": "code",
   "execution_count": 42,
   "metadata": {},
   "outputs": [],
   "source": [
    "#predict for test set\n",
    "y_pred_xgb = model.predict(X_test)"
   ]
  },
  {
   "cell_type": "code",
   "execution_count": 43,
   "metadata": {},
   "outputs": [
    {
     "name": "stdout",
     "output_type": "stream",
     "text": [
      "              precision    recall  f1-score   support\n",
      "\n",
      "           0       0.85      0.91      0.88      1409\n",
      "           1       0.58      0.43      0.50       391\n",
      "\n",
      "    accuracy                           0.81      1800\n",
      "   macro avg       0.72      0.67      0.69      1800\n",
      "weighted avg       0.79      0.81      0.80      1800\n",
      "\n"
     ]
    }
   ],
   "source": [
    "#get the classification report\n",
    "from sklearn import metrics\n",
    "print(metrics.classification_report(y_test, y_pred_xgb))"
   ]
  },
  {
   "cell_type": "code",
   "execution_count": 44,
   "metadata": {},
   "outputs": [
    {
     "data": {
      "text/plain": [
       "0.81"
      ]
     },
     "execution_count": 44,
     "metadata": {},
     "output_type": "execute_result"
    }
   ],
   "source": [
    "#get accuracy score to high %\n",
    "from sklearn.metrics import accuracy_score\n",
    "score=accuracy_score(y_test, y_pred_xgb)\n",
    "score"
   ]
  }
 ],
 "metadata": {
  "kernelspec": {
   "display_name": "Python 3",
   "language": "python",
   "name": "python3"
  },
  "language_info": {
   "codemirror_mode": {
    "name": "ipython",
    "version": 3
   },
   "file_extension": ".py",
   "mimetype": "text/x-python",
   "name": "python",
   "nbconvert_exporter": "python",
   "pygments_lexer": "ipython3",
   "version": "3.7.3"
  }
 },
 "nbformat": 4,
 "nbformat_minor": 1
}
